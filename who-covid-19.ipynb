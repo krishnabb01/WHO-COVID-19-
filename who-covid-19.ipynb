{
 "cells": [
  {
   "cell_type": "code",
   "execution_count": 1,
   "id": "c129b18e",
   "metadata": {
    "_cell_guid": "b1076dfc-b9ad-4769-8c92-a6c4dae69d19",
    "_uuid": "8f2839f25d086af736a60e9eeb907d3b93b6e0e5",
    "execution": {
     "iopub.execute_input": "2024-09-20T06:39:16.344958Z",
     "iopub.status.busy": "2024-09-20T06:39:16.343938Z",
     "iopub.status.idle": "2024-09-20T06:39:18.995656Z",
     "shell.execute_reply": "2024-09-20T06:39:18.994237Z"
    },
    "papermill": {
     "duration": 2.673846,
     "end_time": "2024-09-20T06:39:18.998438",
     "exception": false,
     "start_time": "2024-09-20T06:39:16.324592",
     "status": "completed"
    },
    "tags": []
   },
   "outputs": [
    {
     "name": "stdout",
     "output_type": "stream",
     "text": [
      "/kaggle/input/who-covid-19-cases-dataset/WHO COVID-19 cases.csv\n"
     ]
    }
   ],
   "source": [
    "# This Python 3 environment comes with many helpful analytics libraries installed\n",
    "# It is defined by the kaggle/python Docker image: https://github.com/kaggle/docker-python\n",
    "# For example, here's several helpful packages to load\n",
    "\n",
    "import numpy as np # linear algebra\n",
    "import pandas as pd # data processing, CSV file I/O (e.g. pd.read_csv)\n",
    "import matplotlib.pyplot as plt\n",
    "import seaborn as sns\n",
    "import warnings\n",
    "warnings.filterwarnings(\"ignore\", category=FutureWarning)\n",
    "\n",
    "\n",
    "# Input data files are available in the read-only \"../input/\" directory\n",
    "# For example, running this (by clicking run or pressing Shift+Enter) will list all files under the input directory\n",
    "\n",
    "import os\n",
    "for dirname, _, filenames in os.walk('/kaggle/input'):\n",
    "    for filename in filenames:\n",
    "        print(os.path.join(dirname, filename))\n",
    "\n",
    "# You can write up to 20GB to the current directory (/kaggle/working/) that gets preserved as output when you create a version using \"Save & Run All\" \n",
    "# You can also write temporary files to /kaggle/temp/, but they won't be saved outside of the current session"
   ]
  },
  {
   "cell_type": "markdown",
   "id": "3646cec4",
   "metadata": {
    "papermill": {
     "duration": 0.015172,
     "end_time": "2024-09-20T06:39:19.029544",
     "exception": false,
     "start_time": "2024-09-20T06:39:19.014372",
     "status": "completed"
    },
    "tags": []
   },
   "source": [
    "# 1. **Data Import**"
   ]
  },
  {
   "cell_type": "code",
   "execution_count": 2,
   "id": "e94c0fde",
   "metadata": {
    "execution": {
     "iopub.execute_input": "2024-09-20T06:39:19.063010Z",
     "iopub.status.busy": "2024-09-20T06:39:19.062424Z",
     "iopub.status.idle": "2024-09-20T06:39:19.213672Z",
     "shell.execute_reply": "2024-09-20T06:39:19.212370Z"
    },
    "papermill": {
     "duration": 0.171088,
     "end_time": "2024-09-20T06:39:19.216704",
     "exception": false,
     "start_time": "2024-09-20T06:39:19.045616",
     "status": "completed"
    },
    "tags": []
   },
   "outputs": [],
   "source": [
    "df = pd.read_csv(\"/kaggle/input/who-covid-19-cases-dataset/WHO COVID-19 cases.csv\")"
   ]
  },
  {
   "cell_type": "code",
   "execution_count": 3,
   "id": "3ffec19f",
   "metadata": {
    "execution": {
     "iopub.execute_input": "2024-09-20T06:39:19.249591Z",
     "iopub.status.busy": "2024-09-20T06:39:19.249161Z",
     "iopub.status.idle": "2024-09-20T06:39:19.276273Z",
     "shell.execute_reply": "2024-09-20T06:39:19.275213Z"
    },
    "papermill": {
     "duration": 0.046219,
     "end_time": "2024-09-20T06:39:19.278749",
     "exception": false,
     "start_time": "2024-09-20T06:39:19.232530",
     "status": "completed"
    },
    "tags": []
   },
   "outputs": [
    {
     "data": {
      "text/html": [
       "<div>\n",
       "<style scoped>\n",
       "    .dataframe tbody tr th:only-of-type {\n",
       "        vertical-align: middle;\n",
       "    }\n",
       "\n",
       "    .dataframe tbody tr th {\n",
       "        vertical-align: top;\n",
       "    }\n",
       "\n",
       "    .dataframe thead th {\n",
       "        text-align: right;\n",
       "    }\n",
       "</style>\n",
       "<table border=\"1\" class=\"dataframe\">\n",
       "  <thead>\n",
       "    <tr style=\"text-align: right;\">\n",
       "      <th></th>\n",
       "      <th>Date_reported</th>\n",
       "      <th>Country_code</th>\n",
       "      <th>Country</th>\n",
       "      <th>Continent</th>\n",
       "      <th>WHO_region</th>\n",
       "      <th>New_cases</th>\n",
       "      <th>Cumulative_cases</th>\n",
       "      <th>New_deaths</th>\n",
       "      <th>Cumulative_deaths</th>\n",
       "    </tr>\n",
       "  </thead>\n",
       "  <tbody>\n",
       "    <tr>\n",
       "      <th>0</th>\n",
       "      <td>2020-01-05</td>\n",
       "      <td>AF</td>\n",
       "      <td>Afghanistan</td>\n",
       "      <td>Asia</td>\n",
       "      <td>EMRO</td>\n",
       "      <td>NaN</td>\n",
       "      <td>0</td>\n",
       "      <td>NaN</td>\n",
       "      <td>0</td>\n",
       "    </tr>\n",
       "    <tr>\n",
       "      <th>1</th>\n",
       "      <td>2020-01-12</td>\n",
       "      <td>AF</td>\n",
       "      <td>Afghanistan</td>\n",
       "      <td>Asia</td>\n",
       "      <td>EMRO</td>\n",
       "      <td>NaN</td>\n",
       "      <td>0</td>\n",
       "      <td>NaN</td>\n",
       "      <td>0</td>\n",
       "    </tr>\n",
       "    <tr>\n",
       "      <th>2</th>\n",
       "      <td>2020-01-19</td>\n",
       "      <td>AF</td>\n",
       "      <td>Afghanistan</td>\n",
       "      <td>Asia</td>\n",
       "      <td>EMRO</td>\n",
       "      <td>NaN</td>\n",
       "      <td>0</td>\n",
       "      <td>NaN</td>\n",
       "      <td>0</td>\n",
       "    </tr>\n",
       "    <tr>\n",
       "      <th>3</th>\n",
       "      <td>2020-01-26</td>\n",
       "      <td>AF</td>\n",
       "      <td>Afghanistan</td>\n",
       "      <td>Asia</td>\n",
       "      <td>EMRO</td>\n",
       "      <td>NaN</td>\n",
       "      <td>0</td>\n",
       "      <td>NaN</td>\n",
       "      <td>0</td>\n",
       "    </tr>\n",
       "    <tr>\n",
       "      <th>4</th>\n",
       "      <td>2020-02-02</td>\n",
       "      <td>AF</td>\n",
       "      <td>Afghanistan</td>\n",
       "      <td>Asia</td>\n",
       "      <td>EMRO</td>\n",
       "      <td>NaN</td>\n",
       "      <td>0</td>\n",
       "      <td>NaN</td>\n",
       "      <td>0</td>\n",
       "    </tr>\n",
       "  </tbody>\n",
       "</table>\n",
       "</div>"
      ],
      "text/plain": [
       "  Date_reported Country_code      Country Continent WHO_region  New_cases  \\\n",
       "0    2020-01-05           AF  Afghanistan      Asia       EMRO        NaN   \n",
       "1    2020-01-12           AF  Afghanistan      Asia       EMRO        NaN   \n",
       "2    2020-01-19           AF  Afghanistan      Asia       EMRO        NaN   \n",
       "3    2020-01-26           AF  Afghanistan      Asia       EMRO        NaN   \n",
       "4    2020-02-02           AF  Afghanistan      Asia       EMRO        NaN   \n",
       "\n",
       "   Cumulative_cases  New_deaths  Cumulative_deaths  \n",
       "0                 0         NaN                  0  \n",
       "1                 0         NaN                  0  \n",
       "2                 0         NaN                  0  \n",
       "3                 0         NaN                  0  \n",
       "4                 0         NaN                  0  "
      ]
     },
     "execution_count": 3,
     "metadata": {},
     "output_type": "execute_result"
    }
   ],
   "source": [
    "df.head()"
   ]
  },
  {
   "cell_type": "markdown",
   "id": "1e13fd0f",
   "metadata": {
    "papermill": {
     "duration": 0.01629,
     "end_time": "2024-09-20T06:39:19.310572",
     "exception": false,
     "start_time": "2024-09-20T06:39:19.294282",
     "status": "completed"
    },
    "tags": []
   },
   "source": [
    "# 2. **Data Cleaning**"
   ]
  },
  {
   "cell_type": "code",
   "execution_count": 4,
   "id": "0c6b0555",
   "metadata": {
    "execution": {
     "iopub.execute_input": "2024-09-20T06:39:19.343487Z",
     "iopub.status.busy": "2024-09-20T06:39:19.343034Z",
     "iopub.status.idle": "2024-09-20T06:39:19.399785Z",
     "shell.execute_reply": "2024-09-20T06:39:19.398682Z"
    },
    "papermill": {
     "duration": 0.076276,
     "end_time": "2024-09-20T06:39:19.402473",
     "exception": false,
     "start_time": "2024-09-20T06:39:19.326197",
     "status": "completed"
    },
    "tags": []
   },
   "outputs": [
    {
     "name": "stdout",
     "output_type": "stream",
     "text": [
      "<class 'pandas.core.frame.DataFrame'>\n",
      "RangeIndex: 58560 entries, 0 to 58559\n",
      "Data columns (total 9 columns):\n",
      " #   Column             Non-Null Count  Dtype  \n",
      "---  ------             --------------  -----  \n",
      " 0   Date_reported      58560 non-null  object \n",
      " 1   Country_code       58316 non-null  object \n",
      " 2   Country            58560 non-null  object \n",
      " 3   Continent          58560 non-null  object \n",
      " 4   WHO_region         54168 non-null  object \n",
      " 5   New_cases          39260 non-null  float64\n",
      " 6   Cumulative_cases   58560 non-null  int64  \n",
      " 7   New_deaths         25084 non-null  float64\n",
      " 8   Cumulative_deaths  58560 non-null  int64  \n",
      "dtypes: float64(2), int64(2), object(5)\n",
      "memory usage: 4.0+ MB\n"
     ]
    }
   ],
   "source": [
    "df.info()"
   ]
  },
  {
   "cell_type": "code",
   "execution_count": 5,
   "id": "7fbec64a",
   "metadata": {
    "execution": {
     "iopub.execute_input": "2024-09-20T06:39:19.436463Z",
     "iopub.status.busy": "2024-09-20T06:39:19.435557Z",
     "iopub.status.idle": "2024-09-20T06:39:19.525682Z",
     "shell.execute_reply": "2024-09-20T06:39:19.524505Z"
    },
    "papermill": {
     "duration": 0.109647,
     "end_time": "2024-09-20T06:39:19.528327",
     "exception": false,
     "start_time": "2024-09-20T06:39:19.418680",
     "status": "completed"
    },
    "tags": []
   },
   "outputs": [
    {
     "name": "stdout",
     "output_type": "stream",
     "text": [
      "Date_reported            0\n",
      "Country_code           244\n",
      "Country                  0\n",
      "Continent                0\n",
      "WHO_region            4392\n",
      "New_cases            19300\n",
      "Cumulative_cases         0\n",
      "New_deaths           33476\n",
      "Cumulative_deaths        0\n",
      "dtype: int64\n",
      "0\n"
     ]
    }
   ],
   "source": [
    "print(df.isnull().sum())\n",
    "print(df.duplicated().sum())"
   ]
  },
  {
   "cell_type": "code",
   "execution_count": 6,
   "id": "839aa6e4",
   "metadata": {
    "execution": {
     "iopub.execute_input": "2024-09-20T06:39:19.561882Z",
     "iopub.status.busy": "2024-09-20T06:39:19.561428Z",
     "iopub.status.idle": "2024-09-20T06:39:19.573155Z",
     "shell.execute_reply": "2024-09-20T06:39:19.571974Z"
    },
    "papermill": {
     "duration": 0.031691,
     "end_time": "2024-09-20T06:39:19.575779",
     "exception": false,
     "start_time": "2024-09-20T06:39:19.544088",
     "status": "completed"
    },
    "tags": []
   },
   "outputs": [],
   "source": [
    "df.drop(\"Country_code\",axis = 1,inplace = True)"
   ]
  },
  {
   "cell_type": "code",
   "execution_count": 7,
   "id": "3203aa1f",
   "metadata": {
    "execution": {
     "iopub.execute_input": "2024-09-20T06:39:19.609177Z",
     "iopub.status.busy": "2024-09-20T06:39:19.608738Z",
     "iopub.status.idle": "2024-09-20T06:39:19.615746Z",
     "shell.execute_reply": "2024-09-20T06:39:19.614618Z"
    },
    "papermill": {
     "duration": 0.026683,
     "end_time": "2024-09-20T06:39:19.618263",
     "exception": false,
     "start_time": "2024-09-20T06:39:19.591580",
     "status": "completed"
    },
    "tags": []
   },
   "outputs": [],
   "source": [
    "df[\"New_cases\"].fillna(0, inplace = True)"
   ]
  },
  {
   "cell_type": "code",
   "execution_count": 8,
   "id": "6304ba11",
   "metadata": {
    "execution": {
     "iopub.execute_input": "2024-09-20T06:39:19.651728Z",
     "iopub.status.busy": "2024-09-20T06:39:19.651286Z",
     "iopub.status.idle": "2024-09-20T06:39:19.657980Z",
     "shell.execute_reply": "2024-09-20T06:39:19.656813Z"
    },
    "papermill": {
     "duration": 0.026476,
     "end_time": "2024-09-20T06:39:19.660464",
     "exception": false,
     "start_time": "2024-09-20T06:39:19.633988",
     "status": "completed"
    },
    "tags": []
   },
   "outputs": [],
   "source": [
    "df[\"New_deaths\"].fillna(0,inplace = True)"
   ]
  },
  {
   "cell_type": "code",
   "execution_count": 9,
   "id": "90e0f9e4",
   "metadata": {
    "execution": {
     "iopub.execute_input": "2024-09-20T06:39:19.694698Z",
     "iopub.status.busy": "2024-09-20T06:39:19.694258Z",
     "iopub.status.idle": "2024-09-20T06:39:19.712899Z",
     "shell.execute_reply": "2024-09-20T06:39:19.711668Z"
    },
    "papermill": {
     "duration": 0.039742,
     "end_time": "2024-09-20T06:39:19.715884",
     "exception": false,
     "start_time": "2024-09-20T06:39:19.676142",
     "status": "completed"
    },
    "tags": []
   },
   "outputs": [
    {
     "data": {
      "text/plain": [
       "Continent\n",
       "Africa           13908\n",
       "Europe           11956\n",
       "Asia             11712\n",
       "North America    10248\n",
       "Oceania           4636\n",
       "South America     3172\n",
       "Uncategorized     1464\n",
       "island            1464\n",
       "Name: count, dtype: int64"
      ]
     },
     "execution_count": 9,
     "metadata": {},
     "output_type": "execute_result"
    }
   ],
   "source": [
    "df['Continent'].value_counts()"
   ]
  },
  {
   "cell_type": "code",
   "execution_count": 10,
   "id": "d16967b8",
   "metadata": {
    "execution": {
     "iopub.execute_input": "2024-09-20T06:39:19.751354Z",
     "iopub.status.busy": "2024-09-20T06:39:19.750906Z",
     "iopub.status.idle": "2024-09-20T06:39:19.781710Z",
     "shell.execute_reply": "2024-09-20T06:39:19.780683Z"
    },
    "papermill": {
     "duration": 0.050779,
     "end_time": "2024-09-20T06:39:19.784152",
     "exception": false,
     "start_time": "2024-09-20T06:39:19.733373",
     "status": "completed"
    },
    "tags": []
   },
   "outputs": [
    {
     "data": {
      "text/html": [
       "<div>\n",
       "<style scoped>\n",
       "    .dataframe tbody tr th:only-of-type {\n",
       "        vertical-align: middle;\n",
       "    }\n",
       "\n",
       "    .dataframe tbody tr th {\n",
       "        vertical-align: top;\n",
       "    }\n",
       "\n",
       "    .dataframe thead th {\n",
       "        text-align: right;\n",
       "    }\n",
       "</style>\n",
       "<table border=\"1\" class=\"dataframe\">\n",
       "  <thead>\n",
       "    <tr style=\"text-align: right;\">\n",
       "      <th></th>\n",
       "      <th>Continent</th>\n",
       "      <th>WHO_region</th>\n",
       "    </tr>\n",
       "  </thead>\n",
       "  <tbody>\n",
       "    <tr>\n",
       "      <th>0</th>\n",
       "      <td>Africa</td>\n",
       "      <td>[AFRO, EMRO, nan]</td>\n",
       "    </tr>\n",
       "    <tr>\n",
       "      <th>1</th>\n",
       "      <td>Asia</td>\n",
       "      <td>[EMRO, EURO, SEARO, WPRO]</td>\n",
       "    </tr>\n",
       "    <tr>\n",
       "      <th>2</th>\n",
       "      <td>Europe</td>\n",
       "      <td>[EURO, nan]</td>\n",
       "    </tr>\n",
       "    <tr>\n",
       "      <th>3</th>\n",
       "      <td>North America</td>\n",
       "      <td>[AMRO, nan, EURO]</td>\n",
       "    </tr>\n",
       "    <tr>\n",
       "      <th>4</th>\n",
       "      <td>Oceania</td>\n",
       "      <td>[WPRO]</td>\n",
       "    </tr>\n",
       "    <tr>\n",
       "      <th>5</th>\n",
       "      <td>South America</td>\n",
       "      <td>[AMRO, nan]</td>\n",
       "    </tr>\n",
       "    <tr>\n",
       "      <th>6</th>\n",
       "      <td>Uncategorized</td>\n",
       "      <td>[OTHER]</td>\n",
       "    </tr>\n",
       "    <tr>\n",
       "      <th>7</th>\n",
       "      <td>island</td>\n",
       "      <td>[WPRO, nan]</td>\n",
       "    </tr>\n",
       "  </tbody>\n",
       "</table>\n",
       "</div>"
      ],
      "text/plain": [
       "       Continent                 WHO_region\n",
       "0         Africa          [AFRO, EMRO, nan]\n",
       "1           Asia  [EMRO, EURO, SEARO, WPRO]\n",
       "2         Europe                [EURO, nan]\n",
       "3  North America          [AMRO, nan, EURO]\n",
       "4        Oceania                     [WPRO]\n",
       "5  South America                [AMRO, nan]\n",
       "6  Uncategorized                    [OTHER]\n",
       "7         island                [WPRO, nan]"
      ]
     },
     "execution_count": 10,
     "metadata": {},
     "output_type": "execute_result"
    }
   ],
   "source": [
    "df.groupby('Continent')['WHO_region'].unique().reset_index()"
   ]
  },
  {
   "cell_type": "code",
   "execution_count": 11,
   "id": "81a3dde9",
   "metadata": {
    "execution": {
     "iopub.execute_input": "2024-09-20T06:39:19.818268Z",
     "iopub.status.busy": "2024-09-20T06:39:19.817807Z",
     "iopub.status.idle": "2024-09-20T06:39:19.823283Z",
     "shell.execute_reply": "2024-09-20T06:39:19.822158Z"
    },
    "papermill": {
     "duration": 0.025458,
     "end_time": "2024-09-20T06:39:19.825656",
     "exception": false,
     "start_time": "2024-09-20T06:39:19.800198",
     "status": "completed"
    },
    "tags": []
   },
   "outputs": [],
   "source": [
    "Conti_who = {\"South America\" : \"AMRO\",\n",
    "            \"Europe\" : \"EURO\",\n",
    "            \"Africa\" : \"AFRO\",\n",
    "            \"island\" : \"WPRO\",\n",
    "            \"North America\" : \"AMRO\"}"
   ]
  },
  {
   "cell_type": "code",
   "execution_count": 12,
   "id": "b0d0d143",
   "metadata": {
    "execution": {
     "iopub.execute_input": "2024-09-20T06:39:19.859529Z",
     "iopub.status.busy": "2024-09-20T06:39:19.859083Z",
     "iopub.status.idle": "2024-09-20T06:39:19.883023Z",
     "shell.execute_reply": "2024-09-20T06:39:19.881693Z"
    },
    "papermill": {
     "duration": 0.043935,
     "end_time": "2024-09-20T06:39:19.885590",
     "exception": false,
     "start_time": "2024-09-20T06:39:19.841655",
     "status": "completed"
    },
    "tags": []
   },
   "outputs": [],
   "source": [
    "df['WHO_region'] = df['WHO_region'].combine_first(df['Continent'].map(Conti_who))"
   ]
  },
  {
   "cell_type": "code",
   "execution_count": 13,
   "id": "f205089d",
   "metadata": {
    "execution": {
     "iopub.execute_input": "2024-09-20T06:39:19.919845Z",
     "iopub.status.busy": "2024-09-20T06:39:19.919432Z",
     "iopub.status.idle": "2024-09-20T06:39:19.956014Z",
     "shell.execute_reply": "2024-09-20T06:39:19.954643Z"
    },
    "papermill": {
     "duration": 0.057583,
     "end_time": "2024-09-20T06:39:19.959498",
     "exception": false,
     "start_time": "2024-09-20T06:39:19.901915",
     "status": "completed"
    },
    "tags": []
   },
   "outputs": [
    {
     "data": {
      "text/html": [
       "<div>\n",
       "<style scoped>\n",
       "    .dataframe tbody tr th:only-of-type {\n",
       "        vertical-align: middle;\n",
       "    }\n",
       "\n",
       "    .dataframe tbody tr th {\n",
       "        vertical-align: top;\n",
       "    }\n",
       "\n",
       "    .dataframe thead th {\n",
       "        text-align: right;\n",
       "    }\n",
       "</style>\n",
       "<table border=\"1\" class=\"dataframe\">\n",
       "  <thead>\n",
       "    <tr style=\"text-align: right;\">\n",
       "      <th></th>\n",
       "      <th>Continent</th>\n",
       "      <th>WHO_region</th>\n",
       "    </tr>\n",
       "  </thead>\n",
       "  <tbody>\n",
       "    <tr>\n",
       "      <th>0</th>\n",
       "      <td>Africa</td>\n",
       "      <td>[AFRO, EMRO]</td>\n",
       "    </tr>\n",
       "    <tr>\n",
       "      <th>1</th>\n",
       "      <td>Asia</td>\n",
       "      <td>[EMRO, EURO, SEARO, WPRO]</td>\n",
       "    </tr>\n",
       "    <tr>\n",
       "      <th>2</th>\n",
       "      <td>Europe</td>\n",
       "      <td>[EURO]</td>\n",
       "    </tr>\n",
       "    <tr>\n",
       "      <th>3</th>\n",
       "      <td>North America</td>\n",
       "      <td>[AMRO, EURO]</td>\n",
       "    </tr>\n",
       "    <tr>\n",
       "      <th>4</th>\n",
       "      <td>Oceania</td>\n",
       "      <td>[WPRO]</td>\n",
       "    </tr>\n",
       "    <tr>\n",
       "      <th>5</th>\n",
       "      <td>South America</td>\n",
       "      <td>[AMRO]</td>\n",
       "    </tr>\n",
       "    <tr>\n",
       "      <th>6</th>\n",
       "      <td>Uncategorized</td>\n",
       "      <td>[OTHER]</td>\n",
       "    </tr>\n",
       "    <tr>\n",
       "      <th>7</th>\n",
       "      <td>island</td>\n",
       "      <td>[WPRO]</td>\n",
       "    </tr>\n",
       "  </tbody>\n",
       "</table>\n",
       "</div>"
      ],
      "text/plain": [
       "       Continent                 WHO_region\n",
       "0         Africa               [AFRO, EMRO]\n",
       "1           Asia  [EMRO, EURO, SEARO, WPRO]\n",
       "2         Europe                     [EURO]\n",
       "3  North America               [AMRO, EURO]\n",
       "4        Oceania                     [WPRO]\n",
       "5  South America                     [AMRO]\n",
       "6  Uncategorized                    [OTHER]\n",
       "7         island                     [WPRO]"
      ]
     },
     "execution_count": 13,
     "metadata": {},
     "output_type": "execute_result"
    }
   ],
   "source": [
    "df.groupby('Continent')['WHO_region'].unique().reset_index()"
   ]
  },
  {
   "cell_type": "code",
   "execution_count": 14,
   "id": "a9f28dc6",
   "metadata": {
    "execution": {
     "iopub.execute_input": "2024-09-20T06:39:20.004860Z",
     "iopub.status.busy": "2024-09-20T06:39:20.003795Z",
     "iopub.status.idle": "2024-09-20T06:39:20.135080Z",
     "shell.execute_reply": "2024-09-20T06:39:20.133665Z"
    },
    "papermill": {
     "duration": 0.156,
     "end_time": "2024-09-20T06:39:20.138985",
     "exception": false,
     "start_time": "2024-09-20T06:39:19.982985",
     "status": "completed"
    },
    "tags": []
   },
   "outputs": [],
   "source": [
    "a = df[\"Date_reported\"].str.split(\"-\")\n",
    "df[\"Year\"] = [d[0] for d in a]\n",
    "df[\"Month\"] = [d[1] for d in a]\n",
    "df[\"Day\"] = [d[2] for d in a]"
   ]
  },
  {
   "cell_type": "code",
   "execution_count": 15,
   "id": "0b45591d",
   "metadata": {
    "execution": {
     "iopub.execute_input": "2024-09-20T06:39:20.186649Z",
     "iopub.status.busy": "2024-09-20T06:39:20.185322Z",
     "iopub.status.idle": "2024-09-20T06:39:20.210575Z",
     "shell.execute_reply": "2024-09-20T06:39:20.208527Z"
    },
    "papermill": {
     "duration": 0.049493,
     "end_time": "2024-09-20T06:39:20.214148",
     "exception": false,
     "start_time": "2024-09-20T06:39:20.164655",
     "status": "completed"
    },
    "tags": []
   },
   "outputs": [],
   "source": [
    "df = df.drop(\"Date_reported\",axis = 1)"
   ]
  },
  {
   "cell_type": "code",
   "execution_count": 16,
   "id": "661702e1",
   "metadata": {
    "execution": {
     "iopub.execute_input": "2024-09-20T06:39:20.257366Z",
     "iopub.status.busy": "2024-09-20T06:39:20.256519Z",
     "iopub.status.idle": "2024-09-20T06:39:20.297654Z",
     "shell.execute_reply": "2024-09-20T06:39:20.296342Z"
    },
    "papermill": {
     "duration": 0.067423,
     "end_time": "2024-09-20T06:39:20.300627",
     "exception": false,
     "start_time": "2024-09-20T06:39:20.233204",
     "status": "completed"
    },
    "tags": []
   },
   "outputs": [],
   "source": [
    "cols = ['Year', 'Month', 'Day','New_cases','New_deaths']\n",
    "\n",
    "for col in cols:\n",
    "    df[col] = df[col].astype(int)"
   ]
  },
  {
   "cell_type": "code",
   "execution_count": 17,
   "id": "65559a0c",
   "metadata": {
    "execution": {
     "iopub.execute_input": "2024-09-20T06:39:20.335314Z",
     "iopub.status.busy": "2024-09-20T06:39:20.334881Z",
     "iopub.status.idle": "2024-09-20T06:39:20.366685Z",
     "shell.execute_reply": "2024-09-20T06:39:20.365446Z"
    },
    "papermill": {
     "duration": 0.052081,
     "end_time": "2024-09-20T06:39:20.369183",
     "exception": false,
     "start_time": "2024-09-20T06:39:20.317102",
     "status": "completed"
    },
    "tags": []
   },
   "outputs": [
    {
     "name": "stdout",
     "output_type": "stream",
     "text": [
      "<class 'pandas.core.frame.DataFrame'>\n",
      "RangeIndex: 58560 entries, 0 to 58559\n",
      "Data columns (total 10 columns):\n",
      " #   Column             Non-Null Count  Dtype \n",
      "---  ------             --------------  ----- \n",
      " 0   Country            58560 non-null  object\n",
      " 1   Continent          58560 non-null  object\n",
      " 2   WHO_region         58560 non-null  object\n",
      " 3   New_cases          58560 non-null  int64 \n",
      " 4   Cumulative_cases   58560 non-null  int64 \n",
      " 5   New_deaths         58560 non-null  int64 \n",
      " 6   Cumulative_deaths  58560 non-null  int64 \n",
      " 7   Year               58560 non-null  int64 \n",
      " 8   Month              58560 non-null  int64 \n",
      " 9   Day                58560 non-null  int64 \n",
      "dtypes: int64(7), object(3)\n",
      "memory usage: 4.5+ MB\n"
     ]
    }
   ],
   "source": [
    "df.info()"
   ]
  },
  {
   "cell_type": "markdown",
   "id": "7606150d",
   "metadata": {
    "papermill": {
     "duration": 0.016703,
     "end_time": "2024-09-20T06:39:20.402435",
     "exception": false,
     "start_time": "2024-09-20T06:39:20.385732",
     "status": "completed"
    },
    "tags": []
   },
   "source": [
    "# 3. **Analysis**"
   ]
  },
  {
   "cell_type": "code",
   "execution_count": 18,
   "id": "64609e37",
   "metadata": {
    "execution": {
     "iopub.execute_input": "2024-09-20T06:39:20.437575Z",
     "iopub.status.busy": "2024-09-20T06:39:20.437124Z",
     "iopub.status.idle": "2024-09-20T06:39:20.452466Z",
     "shell.execute_reply": "2024-09-20T06:39:20.451260Z"
    },
    "papermill": {
     "duration": 0.035901,
     "end_time": "2024-09-20T06:39:20.454803",
     "exception": false,
     "start_time": "2024-09-20T06:39:20.418902",
     "status": "completed"
    },
    "tags": []
   },
   "outputs": [
    {
     "data": {
      "text/html": [
       "<div>\n",
       "<style scoped>\n",
       "    .dataframe tbody tr th:only-of-type {\n",
       "        vertical-align: middle;\n",
       "    }\n",
       "\n",
       "    .dataframe tbody tr th {\n",
       "        vertical-align: top;\n",
       "    }\n",
       "\n",
       "    .dataframe thead th {\n",
       "        text-align: right;\n",
       "    }\n",
       "</style>\n",
       "<table border=\"1\" class=\"dataframe\">\n",
       "  <thead>\n",
       "    <tr style=\"text-align: right;\">\n",
       "      <th></th>\n",
       "      <th>Country</th>\n",
       "      <th>Continent</th>\n",
       "      <th>WHO_region</th>\n",
       "      <th>New_cases</th>\n",
       "      <th>Cumulative_cases</th>\n",
       "      <th>New_deaths</th>\n",
       "      <th>Cumulative_deaths</th>\n",
       "      <th>Year</th>\n",
       "      <th>Month</th>\n",
       "      <th>Day</th>\n",
       "    </tr>\n",
       "  </thead>\n",
       "  <tbody>\n",
       "    <tr>\n",
       "      <th>0</th>\n",
       "      <td>Afghanistan</td>\n",
       "      <td>Asia</td>\n",
       "      <td>EMRO</td>\n",
       "      <td>0</td>\n",
       "      <td>0</td>\n",
       "      <td>0</td>\n",
       "      <td>0</td>\n",
       "      <td>2020</td>\n",
       "      <td>1</td>\n",
       "      <td>5</td>\n",
       "    </tr>\n",
       "    <tr>\n",
       "      <th>1</th>\n",
       "      <td>Afghanistan</td>\n",
       "      <td>Asia</td>\n",
       "      <td>EMRO</td>\n",
       "      <td>0</td>\n",
       "      <td>0</td>\n",
       "      <td>0</td>\n",
       "      <td>0</td>\n",
       "      <td>2020</td>\n",
       "      <td>1</td>\n",
       "      <td>12</td>\n",
       "    </tr>\n",
       "    <tr>\n",
       "      <th>2</th>\n",
       "      <td>Afghanistan</td>\n",
       "      <td>Asia</td>\n",
       "      <td>EMRO</td>\n",
       "      <td>0</td>\n",
       "      <td>0</td>\n",
       "      <td>0</td>\n",
       "      <td>0</td>\n",
       "      <td>2020</td>\n",
       "      <td>1</td>\n",
       "      <td>19</td>\n",
       "    </tr>\n",
       "    <tr>\n",
       "      <th>3</th>\n",
       "      <td>Afghanistan</td>\n",
       "      <td>Asia</td>\n",
       "      <td>EMRO</td>\n",
       "      <td>0</td>\n",
       "      <td>0</td>\n",
       "      <td>0</td>\n",
       "      <td>0</td>\n",
       "      <td>2020</td>\n",
       "      <td>1</td>\n",
       "      <td>26</td>\n",
       "    </tr>\n",
       "    <tr>\n",
       "      <th>4</th>\n",
       "      <td>Afghanistan</td>\n",
       "      <td>Asia</td>\n",
       "      <td>EMRO</td>\n",
       "      <td>0</td>\n",
       "      <td>0</td>\n",
       "      <td>0</td>\n",
       "      <td>0</td>\n",
       "      <td>2020</td>\n",
       "      <td>2</td>\n",
       "      <td>2</td>\n",
       "    </tr>\n",
       "  </tbody>\n",
       "</table>\n",
       "</div>"
      ],
      "text/plain": [
       "       Country Continent WHO_region  New_cases  Cumulative_cases  New_deaths  \\\n",
       "0  Afghanistan      Asia       EMRO          0                 0           0   \n",
       "1  Afghanistan      Asia       EMRO          0                 0           0   \n",
       "2  Afghanistan      Asia       EMRO          0                 0           0   \n",
       "3  Afghanistan      Asia       EMRO          0                 0           0   \n",
       "4  Afghanistan      Asia       EMRO          0                 0           0   \n",
       "\n",
       "   Cumulative_deaths  Year  Month  Day  \n",
       "0                  0  2020      1    5  \n",
       "1                  0  2020      1   12  \n",
       "2                  0  2020      1   19  \n",
       "3                  0  2020      1   26  \n",
       "4                  0  2020      2    2  "
      ]
     },
     "execution_count": 18,
     "metadata": {},
     "output_type": "execute_result"
    }
   ],
   "source": [
    "df.head()"
   ]
  },
  {
   "cell_type": "code",
   "execution_count": 19,
   "id": "401ae5d4",
   "metadata": {
    "execution": {
     "iopub.execute_input": "2024-09-20T06:39:20.491101Z",
     "iopub.status.busy": "2024-09-20T06:39:20.490238Z",
     "iopub.status.idle": "2024-09-20T06:39:22.010654Z",
     "shell.execute_reply": "2024-09-20T06:39:22.009398Z"
    },
    "papermill": {
     "duration": 1.541673,
     "end_time": "2024-09-20T06:39:22.013319",
     "exception": false,
     "start_time": "2024-09-20T06:39:20.471646",
     "status": "completed"
    },
    "tags": []
   },
   "outputs": [
    {
     "data": {
      "image/png": "[encoded data removed]",
      "text/plain": [
       "<Figure size 1200x400 with 2 Axes>"
      ]
     },
     "metadata": {},
     "output_type": "display_data"
    }
   ],
   "source": [
    "plt.figure(figsize = (12,4))\n",
    "plt.subplot(1, 2, 1)\n",
    "sns.barplot(x=df['Year'], y=df['Cumulative_cases'],palette = \"coolwarm\")\n",
    "\n",
    "plt.subplot(1, 2, 2)\n",
    "sns.barplot(x=df['Year'], y=df['Cumulative_deaths'],palette = \"coolwarm\")\n",
    "plt.show()"
   ]
  },
  {
   "cell_type": "code",
   "execution_count": 20,
   "id": "06b5b542",
   "metadata": {
    "execution": {
     "iopub.execute_input": "2024-09-20T06:39:22.051049Z",
     "iopub.status.busy": "2024-09-20T06:39:22.050589Z",
     "iopub.status.idle": "2024-09-20T06:39:24.133199Z",
     "shell.execute_reply": "2024-09-20T06:39:24.132006Z"
    },
    "papermill": {
     "duration": 2.104968,
     "end_time": "2024-09-20T06:39:24.135814",
     "exception": false,
     "start_time": "2024-09-20T06:39:22.030846",
     "status": "completed"
    },
    "tags": []
   },
   "outputs": [
    {
     "data": {
      "image/png": "[encoded data removed]",
      "text/plain": [
       "<Figure size 1200x400 with 2 Axes>"
      ]
     },
     "metadata": {},
     "output_type": "display_data"
    }
   ],
   "source": [
    "plt.figure(figsize = (12,4))\n",
    "plt.subplot(1, 2, 1)\n",
    "sns.barplot(x=df['Month'], y=df['Cumulative_cases'],palette = \"coolwarm\")\n",
    "\n",
    "plt.subplot(1, 2, 2)\n",
    "sns.barplot(x=df['Month'], y=df['Cumulative_deaths'],palette = \"coolwarm\")\n",
    "plt.show()"
   ]
  },
  {
   "cell_type": "code",
   "execution_count": 21,
   "id": "c8c9cd4a",
   "metadata": {
    "execution": {
     "iopub.execute_input": "2024-09-20T06:39:24.173702Z",
     "iopub.status.busy": "2024-09-20T06:39:24.172649Z",
     "iopub.status.idle": "2024-09-20T06:39:27.733187Z",
     "shell.execute_reply": "2024-09-20T06:39:27.732028Z"
    },
    "papermill": {
     "duration": 3.582276,
     "end_time": "2024-09-20T06:39:27.735810",
     "exception": false,
     "start_time": "2024-09-20T06:39:24.153534",
     "status": "completed"
    },
    "tags": []
   },
   "outputs": [
    {
     "data": {
      "image/png": "[encoded data removed]",
      "text/plain": [
       "<Figure size 1500x300 with 2 Axes>"
      ]
     },
     "metadata": {},
     "output_type": "display_data"
    }
   ],
   "source": [
    "plt.figure(figsize = (15,3))\n",
    "plt.subplot(1, 2, 1)\n",
    "sns.barplot(x=df['Day'], y=df['Cumulative_cases'],palette = \"coolwarm\")\n",
    "\n",
    "plt.subplot(1, 2, 2)\n",
    "sns.barplot(x=df['Day'], y=df['Cumulative_deaths'],palette = \"coolwarm\")\n",
    "plt.show()"
   ]
  },
  {
   "cell_type": "code",
   "execution_count": 22,
   "id": "a16fcfcc",
   "metadata": {
    "execution": {
     "iopub.execute_input": "2024-09-20T06:39:27.775251Z",
     "iopub.status.busy": "2024-09-20T06:39:27.774675Z",
     "iopub.status.idle": "2024-09-20T06:39:29.517975Z",
     "shell.execute_reply": "2024-09-20T06:39:29.516737Z"
    },
    "papermill": {
     "duration": 1.765593,
     "end_time": "2024-09-20T06:39:29.520466",
     "exception": false,
     "start_time": "2024-09-20T06:39:27.754873",
     "status": "completed"
    },
    "tags": []
   },
   "outputs": [
    {
     "data": {
      "image/png": "[encoded data removed]",
      "text/plain": [
       "<Figure size 1500x500 with 2 Axes>"
      ]
     },
     "metadata": {},
     "output_type": "display_data"
    }
   ],
   "source": [
    "# Country\tContinent\tWHO_region\n",
    "\n",
    "plt.figure(figsize = (15,5))\n",
    "plt.subplot(1, 2, 1)\n",
    "sns.barplot(x=df['WHO_region'], y=df['Cumulative_cases'],palette = \"coolwarm\")\n",
    "\n",
    "plt.subplot(1, 2, 2)\n",
    "sns.barplot(x=df['WHO_region'], y=df['Cumulative_deaths'],palette = \"coolwarm\")\n",
    "plt.show()"
   ]
  },
  {
   "cell_type": "code",
   "execution_count": 23,
   "id": "9ccc9ece",
   "metadata": {
    "execution": {
     "iopub.execute_input": "2024-09-20T06:39:29.560029Z",
     "iopub.status.busy": "2024-09-20T06:39:29.559597Z",
     "iopub.status.idle": "2024-09-20T06:39:31.516429Z",
     "shell.execute_reply": "2024-09-20T06:39:31.515207Z"
    },
    "papermill": {
     "duration": 1.979867,
     "end_time": "2024-09-20T06:39:31.519235",
     "exception": false,
     "start_time": "2024-09-20T06:39:29.539368",
     "status": "completed"
    },
    "tags": []
   },
   "outputs": [
    {
     "data": {
      "image/png": "[encoded data removed]",
      "text/plain": [
       "<Figure size 2500x500 with 1 Axes>"
      ]
     },
     "metadata": {},
     "output_type": "display_data"
    },
    {
     "data": {
      "image/png": "[encoded data removed]",
      "text/plain": [
       "<Figure size 2500x500 with 1 Axes>"
      ]
     },
     "metadata": {},
     "output_type": "display_data"
    }
   ],
   "source": [
    "plt.figure(figsize = (25,5))\n",
    "plt.subplot(1, 2, 1)\n",
    "sns.barplot(x=df['Continent'], y=df['Cumulative_cases'],palette = \"coolwarm\")\n",
    "plt.show()\n",
    "\n",
    "plt.figure(figsize = (25,5))\n",
    "plt.subplot(1, 2, 2)\n",
    "sns.barplot(x=df['Continent'], y=df['Cumulative_deaths'],palette = \"coolwarm\")\n",
    "plt.show()"
   ]
  },
  {
   "cell_type": "markdown",
   "id": "75276556",
   "metadata": {
    "papermill": {
     "duration": 0.0195,
     "end_time": "2024-09-20T06:39:31.558612",
     "exception": false,
     "start_time": "2024-09-20T06:39:31.539112",
     "status": "completed"
    },
    "tags": []
   },
   "source": [
    "# 4. **PreProcessing**"
   ]
  },
  {
   "cell_type": "code",
   "execution_count": 24,
   "id": "d7ca68ca",
   "metadata": {
    "execution": {
     "iopub.execute_input": "2024-09-20T06:39:31.600443Z",
     "iopub.status.busy": "2024-09-20T06:39:31.599549Z",
     "iopub.status.idle": "2024-09-20T06:39:31.607590Z",
     "shell.execute_reply": "2024-09-20T06:39:31.606499Z"
    },
    "papermill": {
     "duration": 0.031889,
     "end_time": "2024-09-20T06:39:31.610171",
     "exception": false,
     "start_time": "2024-09-20T06:39:31.578282",
     "status": "completed"
    },
    "tags": []
   },
   "outputs": [],
   "source": [
    "cols = ['Year', 'Month', 'Day','New_cases','New_deaths']\n",
    "\n",
    "for col in cols:\n",
    "    df[col] = df[col].astype(int)"
   ]
  },
  {
   "cell_type": "code",
   "execution_count": 25,
   "id": "691de39b",
   "metadata": {
    "execution": {
     "iopub.execute_input": "2024-09-20T06:39:31.652530Z",
     "iopub.status.busy": "2024-09-20T06:39:31.652059Z",
     "iopub.status.idle": "2024-09-20T06:39:31.830100Z",
     "shell.execute_reply": "2024-09-20T06:39:31.828838Z"
    },
    "papermill": {
     "duration": 0.202376,
     "end_time": "2024-09-20T06:39:31.833087",
     "exception": false,
     "start_time": "2024-09-20T06:39:31.630711",
     "status": "completed"
    },
    "tags": []
   },
   "outputs": [],
   "source": [
    "from sklearn.preprocessing import LabelEncoder\n",
    "label = LabelEncoder()"
   ]
  },
  {
   "cell_type": "code",
   "execution_count": 26,
   "id": "81dc990a",
   "metadata": {
    "execution": {
     "iopub.execute_input": "2024-09-20T06:39:31.876021Z",
     "iopub.status.busy": "2024-09-20T06:39:31.874908Z",
     "iopub.status.idle": "2024-09-20T06:39:31.929149Z",
     "shell.execute_reply": "2024-09-20T06:39:31.928117Z"
    },
    "papermill": {
     "duration": 0.078398,
     "end_time": "2024-09-20T06:39:31.932048",
     "exception": false,
     "start_time": "2024-09-20T06:39:31.853650",
     "status": "completed"
    },
    "tags": []
   },
   "outputs": [],
   "source": [
    "cols = [\"Country\", \"Continent\", \"WHO_region\"]\n",
    "\n",
    "for i in cols:\n",
    "    df[i] = label.fit_transform(df[i])"
   ]
  },
  {
   "cell_type": "code",
   "execution_count": 27,
   "id": "24b2736c",
   "metadata": {
    "execution": {
     "iopub.execute_input": "2024-09-20T06:39:31.974144Z",
     "iopub.status.busy": "2024-09-20T06:39:31.973716Z",
     "iopub.status.idle": "2024-09-20T06:39:32.018200Z",
     "shell.execute_reply": "2024-09-20T06:39:32.016863Z"
    },
    "papermill": {
     "duration": 0.068748,
     "end_time": "2024-09-20T06:39:32.020998",
     "exception": false,
     "start_time": "2024-09-20T06:39:31.952250",
     "status": "completed"
    },
    "tags": []
   },
   "outputs": [
    {
     "data": {
      "text/html": [
       "<div>\n",
       "<style scoped>\n",
       "    .dataframe tbody tr th:only-of-type {\n",
       "        vertical-align: middle;\n",
       "    }\n",
       "\n",
       "    .dataframe tbody tr th {\n",
       "        vertical-align: top;\n",
       "    }\n",
       "\n",
       "    .dataframe thead th {\n",
       "        text-align: right;\n",
       "    }\n",
       "</style>\n",
       "<table border=\"1\" class=\"dataframe\">\n",
       "  <thead>\n",
       "    <tr style=\"text-align: right;\">\n",
       "      <th></th>\n",
       "      <th>Country</th>\n",
       "      <th>Continent</th>\n",
       "      <th>WHO_region</th>\n",
       "      <th>New_cases</th>\n",
       "      <th>Cumulative_cases</th>\n",
       "      <th>New_deaths</th>\n",
       "      <th>Cumulative_deaths</th>\n",
       "      <th>Year</th>\n",
       "      <th>Month</th>\n",
       "      <th>Day</th>\n",
       "    </tr>\n",
       "  </thead>\n",
       "  <tbody>\n",
       "    <tr>\n",
       "      <th>Country</th>\n",
       "      <td>1.000000e+00</td>\n",
       "      <td>-4.911818e-04</td>\n",
       "      <td>1.228665e-01</td>\n",
       "      <td>0.003745</td>\n",
       "      <td>0.028884</td>\n",
       "      <td>0.031137</td>\n",
       "      <td>0.048048</td>\n",
       "      <td>-5.465278e-12</td>\n",
       "      <td>-2.507703e-15</td>\n",
       "      <td>-1.036814e-15</td>\n",
       "    </tr>\n",
       "    <tr>\n",
       "      <th>Continent</th>\n",
       "      <td>-4.911818e-04</td>\n",
       "      <td>1.000000e+00</td>\n",
       "      <td>4.057777e-01</td>\n",
       "      <td>-0.001165</td>\n",
       "      <td>0.005738</td>\n",
       "      <td>0.034870</td>\n",
       "      <td>0.062948</td>\n",
       "      <td>-7.830705e-14</td>\n",
       "      <td>3.163477e-16</td>\n",
       "      <td>-3.857880e-16</td>\n",
       "    </tr>\n",
       "    <tr>\n",
       "      <th>WHO_region</th>\n",
       "      <td>1.228665e-01</td>\n",
       "      <td>4.057777e-01</td>\n",
       "      <td>1.000000e+00</td>\n",
       "      <td>0.029675</td>\n",
       "      <td>0.087771</td>\n",
       "      <td>0.001901</td>\n",
       "      <td>-0.005052</td>\n",
       "      <td>-9.020761e-13</td>\n",
       "      <td>-1.220885e-16</td>\n",
       "      <td>-1.583266e-16</td>\n",
       "    </tr>\n",
       "    <tr>\n",
       "      <th>New_cases</th>\n",
       "      <td>3.744986e-03</td>\n",
       "      <td>-1.164864e-03</td>\n",
       "      <td>2.967511e-02</td>\n",
       "      <td>1.000000</td>\n",
       "      <td>0.162430</td>\n",
       "      <td>0.294423</td>\n",
       "      <td>0.122155</td>\n",
       "      <td>-1.036727e-02</td>\n",
       "      <td>-7.738908e-03</td>\n",
       "      <td>1.393315e-03</td>\n",
       "    </tr>\n",
       "    <tr>\n",
       "      <th>Cumulative_cases</th>\n",
       "      <td>2.888399e-02</td>\n",
       "      <td>5.737615e-03</td>\n",
       "      <td>8.777061e-02</td>\n",
       "      <td>0.162430</td>\n",
       "      <td>1.000000</td>\n",
       "      <td>0.234503</td>\n",
       "      <td>0.792750</td>\n",
       "      <td>1.564629e-01</td>\n",
       "      <td>6.271821e-03</td>\n",
       "      <td>1.079896e-03</td>\n",
       "    </tr>\n",
       "    <tr>\n",
       "      <th>New_deaths</th>\n",
       "      <td>3.113722e-02</td>\n",
       "      <td>3.487027e-02</td>\n",
       "      <td>1.901132e-03</td>\n",
       "      <td>0.294423</td>\n",
       "      <td>0.234503</td>\n",
       "      <td>1.000000</td>\n",
       "      <td>0.342313</td>\n",
       "      <td>-9.343243e-02</td>\n",
       "      <td>-3.050754e-03</td>\n",
       "      <td>3.581148e-03</td>\n",
       "    </tr>\n",
       "    <tr>\n",
       "      <th>Cumulative_deaths</th>\n",
       "      <td>4.804819e-02</td>\n",
       "      <td>6.294841e-02</td>\n",
       "      <td>-5.052076e-03</td>\n",
       "      <td>0.122155</td>\n",
       "      <td>0.792750</td>\n",
       "      <td>0.342313</td>\n",
       "      <td>1.000000</td>\n",
       "      <td>1.147598e-01</td>\n",
       "      <td>1.212002e-02</td>\n",
       "      <td>1.829975e-03</td>\n",
       "    </tr>\n",
       "    <tr>\n",
       "      <th>Year</th>\n",
       "      <td>-5.465278e-12</td>\n",
       "      <td>-7.830705e-14</td>\n",
       "      <td>-9.020761e-13</td>\n",
       "      <td>-0.010367</td>\n",
       "      <td>0.156463</td>\n",
       "      <td>-0.093432</td>\n",
       "      <td>0.114760</td>\n",
       "      <td>1.000000e+00</td>\n",
       "      <td>-1.239383e-01</td>\n",
       "      <td>-1.588379e-03</td>\n",
       "    </tr>\n",
       "    <tr>\n",
       "      <th>Month</th>\n",
       "      <td>-2.507703e-15</td>\n",
       "      <td>3.163477e-16</td>\n",
       "      <td>-1.220885e-16</td>\n",
       "      <td>-0.007739</td>\n",
       "      <td>0.006272</td>\n",
       "      <td>-0.003051</td>\n",
       "      <td>0.012120</td>\n",
       "      <td>-1.239383e-01</td>\n",
       "      <td>1.000000e+00</td>\n",
       "      <td>-9.927923e-03</td>\n",
       "    </tr>\n",
       "    <tr>\n",
       "      <th>Day</th>\n",
       "      <td>-1.036814e-15</td>\n",
       "      <td>-3.857880e-16</td>\n",
       "      <td>-1.583266e-16</td>\n",
       "      <td>0.001393</td>\n",
       "      <td>0.001080</td>\n",
       "      <td>0.003581</td>\n",
       "      <td>0.001830</td>\n",
       "      <td>-1.588379e-03</td>\n",
       "      <td>-9.927923e-03</td>\n",
       "      <td>1.000000e+00</td>\n",
       "    </tr>\n",
       "  </tbody>\n",
       "</table>\n",
       "</div>"
      ],
      "text/plain": [
       "                        Country     Continent    WHO_region  New_cases  \\\n",
       "Country            1.000000e+00 -4.911818e-04  1.228665e-01   0.003745   \n",
       "Continent         -4.911818e-04  1.000000e+00  4.057777e-01  -0.001165   \n",
       "WHO_region         1.228665e-01  4.057777e-01  1.000000e+00   0.029675   \n",
       "New_cases          3.744986e-03 -1.164864e-03  2.967511e-02   1.000000   \n",
       "Cumulative_cases   2.888399e-02  5.737615e-03  8.777061e-02   0.162430   \n",
       "New_deaths         3.113722e-02  3.487027e-02  1.901132e-03   0.294423   \n",
       "Cumulative_deaths  4.804819e-02  6.294841e-02 -5.052076e-03   0.122155   \n",
       "Year              -5.465278e-12 -7.830705e-14 -9.020761e-13  -0.010367   \n",
       "Month             -2.507703e-15  3.163477e-16 -1.220885e-16  -0.007739   \n",
       "Day               -1.036814e-15 -3.857880e-16 -1.583266e-16   0.001393   \n",
       "\n",
       "                   Cumulative_cases  New_deaths  Cumulative_deaths  \\\n",
       "Country                    0.028884    0.031137           0.048048   \n",
       "Continent                  0.005738    0.034870           0.062948   \n",
       "WHO_region                 0.087771    0.001901          -0.005052   \n",
       "New_cases                  0.162430    0.294423           0.122155   \n",
       "Cumulative_cases           1.000000    0.234503           0.792750   \n",
       "New_deaths                 0.234503    1.000000           0.342313   \n",
       "Cumulative_deaths          0.792750    0.342313           1.000000   \n",
       "Year                       0.156463   -0.093432           0.114760   \n",
       "Month                      0.006272   -0.003051           0.012120   \n",
       "Day                        0.001080    0.003581           0.001830   \n",
       "\n",
       "                           Year         Month           Day  \n",
       "Country           -5.465278e-12 -2.507703e-15 -1.036814e-15  \n",
       "Continent         -7.830705e-14  3.163477e-16 -3.857880e-16  \n",
       "WHO_region        -9.020761e-13 -1.220885e-16 -1.583266e-16  \n",
       "New_cases         -1.036727e-02 -7.738908e-03  1.393315e-03  \n",
       "Cumulative_cases   1.564629e-01  6.271821e-03  1.079896e-03  \n",
       "New_deaths        -9.343243e-02 -3.050754e-03  3.581148e-03  \n",
       "Cumulative_deaths  1.147598e-01  1.212002e-02  1.829975e-03  \n",
       "Year               1.000000e+00 -1.239383e-01 -1.588379e-03  \n",
       "Month             -1.239383e-01  1.000000e+00 -9.927923e-03  \n",
       "Day               -1.588379e-03 -9.927923e-03  1.000000e+00  "
      ]
     },
     "execution_count": 27,
     "metadata": {},
     "output_type": "execute_result"
    }
   ],
   "source": [
    "df.corr()"
   ]
  },
  {
   "cell_type": "code",
   "execution_count": 28,
   "id": "84989475",
   "metadata": {
    "execution": {
     "iopub.execute_input": "2024-09-20T06:39:32.065653Z",
     "iopub.status.busy": "2024-09-20T06:39:32.065169Z",
     "iopub.status.idle": "2024-09-20T06:39:32.741322Z",
     "shell.execute_reply": "2024-09-20T06:39:32.740084Z"
    },
    "papermill": {
     "duration": 0.702814,
     "end_time": "2024-09-20T06:39:32.745924",
     "exception": false,
     "start_time": "2024-09-20T06:39:32.043110",
     "status": "completed"
    },
    "tags": []
   },
   "outputs": [
    {
     "data": {
      "image/png": "[encoded data removed]",
      "text/plain": [
       "<Figure size 500x400 with 2 Axes>"
      ]
     },
     "metadata": {},
     "output_type": "display_data"
    }
   ],
   "source": [
    "plt.figure(figsize=(5, 4))\n",
    "sns.heatmap(df.corr(), annot=True, cmap='coolwarm', fmt='.2f', vmin=-1, vmax=1)\n",
    "plt.title('Correlation Matrix')\n",
    "plt.show()"
   ]
  },
  {
   "cell_type": "code",
   "execution_count": 29,
   "id": "593183ca",
   "metadata": {
    "execution": {
     "iopub.execute_input": "2024-09-20T06:39:32.800294Z",
     "iopub.status.busy": "2024-09-20T06:39:32.799419Z",
     "iopub.status.idle": "2024-09-20T06:39:32.868519Z",
     "shell.execute_reply": "2024-09-20T06:39:32.867234Z"
    },
    "papermill": {
     "duration": 0.098651,
     "end_time": "2024-09-20T06:39:32.871510",
     "exception": false,
     "start_time": "2024-09-20T06:39:32.772859",
     "status": "completed"
    },
    "tags": []
   },
   "outputs": [
    {
     "data": {
      "text/html": [
       "<div>\n",
       "<style scoped>\n",
       "    .dataframe tbody tr th:only-of-type {\n",
       "        vertical-align: middle;\n",
       "    }\n",
       "\n",
       "    .dataframe tbody tr th {\n",
       "        vertical-align: top;\n",
       "    }\n",
       "\n",
       "    .dataframe thead th {\n",
       "        text-align: right;\n",
       "    }\n",
       "</style>\n",
       "<table border=\"1\" class=\"dataframe\">\n",
       "  <thead>\n",
       "    <tr style=\"text-align: right;\">\n",
       "      <th></th>\n",
       "      <th>Country</th>\n",
       "      <th>Continent</th>\n",
       "      <th>WHO_region</th>\n",
       "      <th>New_cases</th>\n",
       "      <th>Cumulative_cases</th>\n",
       "      <th>New_deaths</th>\n",
       "      <th>Cumulative_deaths</th>\n",
       "      <th>Year</th>\n",
       "      <th>Month</th>\n",
       "      <th>Day</th>\n",
       "    </tr>\n",
       "  </thead>\n",
       "  <tbody>\n",
       "    <tr>\n",
       "      <th>count</th>\n",
       "      <td>58560.000000</td>\n",
       "      <td>58560.000000</td>\n",
       "      <td>58560.000000</td>\n",
       "      <td>5.856000e+04</td>\n",
       "      <td>5.856000e+04</td>\n",
       "      <td>58560.000000</td>\n",
       "      <td>5.856000e+04</td>\n",
       "      <td>58560.000000</td>\n",
       "      <td>58560.000000</td>\n",
       "      <td>58560.000000</td>\n",
       "    </tr>\n",
       "    <tr>\n",
       "      <th>mean</th>\n",
       "      <td>119.500000</td>\n",
       "      <td>2.045833</td>\n",
       "      <td>2.400000</td>\n",
       "      <td>1.325372e+04</td>\n",
       "      <td>1.810312e+06</td>\n",
       "      <td>120.582821</td>\n",
       "      <td>2.012550e+04</td>\n",
       "      <td>2021.864754</td>\n",
       "      <td>6.221311</td>\n",
       "      <td>15.799180</td>\n",
       "    </tr>\n",
       "    <tr>\n",
       "      <th>std</th>\n",
       "      <td>69.282022</td>\n",
       "      <td>1.775421</td>\n",
       "      <td>2.016202</td>\n",
       "      <td>2.212564e+05</td>\n",
       "      <td>7.851277e+06</td>\n",
       "      <td>805.691725</td>\n",
       "      <td>8.220948e+04</td>\n",
       "      <td>1.355838</td>\n",
       "      <td>3.382753</td>\n",
       "      <td>8.805616</td>\n",
       "    </tr>\n",
       "    <tr>\n",
       "      <th>min</th>\n",
       "      <td>0.000000</td>\n",
       "      <td>0.000000</td>\n",
       "      <td>0.000000</td>\n",
       "      <td>-6.507900e+04</td>\n",
       "      <td>0.000000e+00</td>\n",
       "      <td>-3432.000000</td>\n",
       "      <td>0.000000e+00</td>\n",
       "      <td>2020.000000</td>\n",
       "      <td>1.000000</td>\n",
       "      <td>1.000000</td>\n",
       "    </tr>\n",
       "    <tr>\n",
       "      <th>25%</th>\n",
       "      <td>59.750000</td>\n",
       "      <td>1.000000</td>\n",
       "      <td>1.000000</td>\n",
       "      <td>0.000000e+00</td>\n",
       "      <td>4.402750e+03</td>\n",
       "      <td>0.000000</td>\n",
       "      <td>2.900000e+01</td>\n",
       "      <td>2021.000000</td>\n",
       "      <td>3.000000</td>\n",
       "      <td>8.000000</td>\n",
       "    </tr>\n",
       "    <tr>\n",
       "      <th>50%</th>\n",
       "      <td>119.500000</td>\n",
       "      <td>2.000000</td>\n",
       "      <td>2.000000</td>\n",
       "      <td>4.400000e+01</td>\n",
       "      <td>4.682750e+04</td>\n",
       "      <td>0.000000</td>\n",
       "      <td>5.845000e+02</td>\n",
       "      <td>2022.000000</td>\n",
       "      <td>6.000000</td>\n",
       "      <td>16.000000</td>\n",
       "    </tr>\n",
       "    <tr>\n",
       "      <th>75%</th>\n",
       "      <td>179.250000</td>\n",
       "      <td>3.000000</td>\n",
       "      <td>3.000000</td>\n",
       "      <td>1.201000e+03</td>\n",
       "      <td>5.351678e+05</td>\n",
       "      <td>12.000000</td>\n",
       "      <td>7.118000e+03</td>\n",
       "      <td>2023.000000</td>\n",
       "      <td>9.000000</td>\n",
       "      <td>23.250000</td>\n",
       "    </tr>\n",
       "    <tr>\n",
       "      <th>max</th>\n",
       "      <td>239.000000</td>\n",
       "      <td>7.000000</td>\n",
       "      <td>6.000000</td>\n",
       "      <td>4.047548e+07</td>\n",
       "      <td>1.034368e+08</td>\n",
       "      <td>47687.000000</td>\n",
       "      <td>1.197213e+06</td>\n",
       "      <td>2024.000000</td>\n",
       "      <td>12.000000</td>\n",
       "      <td>31.000000</td>\n",
       "    </tr>\n",
       "  </tbody>\n",
       "</table>\n",
       "</div>"
      ],
      "text/plain": [
       "            Country     Continent    WHO_region     New_cases  \\\n",
       "count  58560.000000  58560.000000  58560.000000  5.856000e+04   \n",
       "mean     119.500000      2.045833      2.400000  1.325372e+04   \n",
       "std       69.282022      1.775421      2.016202  2.212564e+05   \n",
       "min        0.000000      0.000000      0.000000 -6.507900e+04   \n",
       "25%       59.750000      1.000000      1.000000  0.000000e+00   \n",
       "50%      119.500000      2.000000      2.000000  4.400000e+01   \n",
       "75%      179.250000      3.000000      3.000000  1.201000e+03   \n",
       "max      239.000000      7.000000      6.000000  4.047548e+07   \n",
       "\n",
       "       Cumulative_cases    New_deaths  Cumulative_deaths          Year  \\\n",
       "count      5.856000e+04  58560.000000       5.856000e+04  58560.000000   \n",
       "mean       1.810312e+06    120.582821       2.012550e+04   2021.864754   \n",
       "std        7.851277e+06    805.691725       8.220948e+04      1.355838   \n",
       "min        0.000000e+00  -3432.000000       0.000000e+00   2020.000000   \n",
       "25%        4.402750e+03      0.000000       2.900000e+01   2021.000000   \n",
       "50%        4.682750e+04      0.000000       5.845000e+02   2022.000000   \n",
       "75%        5.351678e+05     12.000000       7.118000e+03   2023.000000   \n",
       "max        1.034368e+08  47687.000000       1.197213e+06   2024.000000   \n",
       "\n",
       "              Month           Day  \n",
       "count  58560.000000  58560.000000  \n",
       "mean       6.221311     15.799180  \n",
       "std        3.382753      8.805616  \n",
       "min        1.000000      1.000000  \n",
       "25%        3.000000      8.000000  \n",
       "50%        6.000000     16.000000  \n",
       "75%        9.000000     23.250000  \n",
       "max       12.000000     31.000000  "
      ]
     },
     "execution_count": 29,
     "metadata": {},
     "output_type": "execute_result"
    }
   ],
   "source": [
    "df.describe()"
   ]
  },
  {
   "cell_type": "code",
   "execution_count": 30,
   "id": "5aad7d51",
   "metadata": {
    "execution": {
     "iopub.execute_input": "2024-09-20T06:39:32.919734Z",
     "iopub.status.busy": "2024-09-20T06:39:32.918865Z",
     "iopub.status.idle": "2024-09-20T06:39:32.933935Z",
     "shell.execute_reply": "2024-09-20T06:39:32.932588Z"
    },
    "papermill": {
     "duration": 0.042558,
     "end_time": "2024-09-20T06:39:32.936951",
     "exception": false,
     "start_time": "2024-09-20T06:39:32.894393",
     "status": "completed"
    },
    "tags": []
   },
   "outputs": [
    {
     "name": "stdout",
     "output_type": "stream",
     "text": [
      "<class 'pandas.core.frame.DataFrame'>\n",
      "RangeIndex: 58560 entries, 0 to 58559\n",
      "Data columns (total 10 columns):\n",
      " #   Column             Non-Null Count  Dtype\n",
      "---  ------             --------------  -----\n",
      " 0   Country            58560 non-null  int64\n",
      " 1   Continent          58560 non-null  int64\n",
      " 2   WHO_region         58560 non-null  int64\n",
      " 3   New_cases          58560 non-null  int64\n",
      " 4   Cumulative_cases   58560 non-null  int64\n",
      " 5   New_deaths         58560 non-null  int64\n",
      " 6   Cumulative_deaths  58560 non-null  int64\n",
      " 7   Year               58560 non-null  int64\n",
      " 8   Month              58560 non-null  int64\n",
      " 9   Day                58560 non-null  int64\n",
      "dtypes: int64(10)\n",
      "memory usage: 4.5 MB\n"
     ]
    }
   ],
   "source": [
    "df.info()"
   ]
  },
  {
   "cell_type": "markdown",
   "id": "10d69212",
   "metadata": {
    "papermill": {
     "duration": 0.022682,
     "end_time": "2024-09-20T06:39:32.982783",
     "exception": false,
     "start_time": "2024-09-20T06:39:32.960101",
     "status": "completed"
    },
    "tags": []
   },
   "source": [
    "# 5. **Model Training**"
   ]
  },
  {
   "cell_type": "code",
   "execution_count": 31,
   "id": "496e019f",
   "metadata": {
    "execution": {
     "iopub.execute_input": "2024-09-20T06:39:33.116009Z",
     "iopub.status.busy": "2024-09-20T06:39:33.115452Z",
     "iopub.status.idle": "2024-09-20T06:39:33.255613Z",
     "shell.execute_reply": "2024-09-20T06:39:33.254312Z"
    },
    "papermill": {
     "duration": 0.253342,
     "end_time": "2024-09-20T06:39:33.259301",
     "exception": false,
     "start_time": "2024-09-20T06:39:33.005959",
     "status": "completed"
    },
    "tags": []
   },
   "outputs": [],
   "source": [
    "# Spliting data\n",
    "from sklearn.model_selection import train_test_split\n",
    "X_train, X_test, y_train, y_test = train_test_split(df.drop(\"Cumulative_deaths\",axis=1), df[\"Cumulative_deaths\"], test_size=0.2, random_state=42)"
   ]
  },
  {
   "cell_type": "code",
   "execution_count": 32,
   "id": "e13d4191",
   "metadata": {
    "execution": {
     "iopub.execute_input": "2024-09-20T06:39:33.309223Z",
     "iopub.status.busy": "2024-09-20T06:39:33.308688Z",
     "iopub.status.idle": "2024-09-20T06:39:33.334741Z",
     "shell.execute_reply": "2024-09-20T06:39:33.333037Z"
    },
    "papermill": {
     "duration": 0.054962,
     "end_time": "2024-09-20T06:39:33.337987",
     "exception": false,
     "start_time": "2024-09-20T06:39:33.283025",
     "status": "completed"
    },
    "tags": []
   },
   "outputs": [],
   "source": [
    "# Apply scaling\n",
    "from sklearn.preprocessing import StandardScaler\n",
    "scaler = StandardScaler()\n",
    "X_train_scaled = scaler.fit_transform(X_train)\n",
    "X_test_scaled = scaler.transform(X_test)"
   ]
  },
  {
   "cell_type": "code",
   "execution_count": 33,
   "id": "88b5f20c",
   "metadata": {
    "execution": {
     "iopub.execute_input": "2024-09-20T06:39:33.386935Z",
     "iopub.status.busy": "2024-09-20T06:39:33.386380Z",
     "iopub.status.idle": "2024-09-20T06:39:33.861534Z",
     "shell.execute_reply": "2024-09-20T06:39:33.860263Z"
    },
    "papermill": {
     "duration": 0.503539,
     "end_time": "2024-09-20T06:39:33.864819",
     "exception": false,
     "start_time": "2024-09-20T06:39:33.361280",
     "status": "completed"
    },
    "tags": []
   },
   "outputs": [],
   "source": [
    "from sklearn.linear_model import LinearRegression\n",
    "from sklearn.neighbors import KNeighborsRegressor\n",
    "from sklearn.tree import DecisionTreeRegressor\n",
    "from sklearn.ensemble import RandomForestRegressor\n",
    "\n",
    "from sklearn.metrics import mean_squared_error, mean_absolute_error, r2_score, confusion_matrix"
   ]
  },
  {
   "cell_type": "code",
   "execution_count": 34,
   "id": "16e1e67b",
   "metadata": {
    "execution": {
     "iopub.execute_input": "2024-09-20T06:39:33.912001Z",
     "iopub.status.busy": "2024-09-20T06:39:33.911573Z",
     "iopub.status.idle": "2024-09-20T06:39:33.917174Z",
     "shell.execute_reply": "2024-09-20T06:39:33.916015Z"
    },
    "papermill": {
     "duration": 0.032342,
     "end_time": "2024-09-20T06:39:33.919681",
     "exception": false,
     "start_time": "2024-09-20T06:39:33.887339",
     "status": "completed"
    },
    "tags": []
   },
   "outputs": [],
   "source": [
    "models = {\"Linear_reg\" : LinearRegression(),\n",
    "\"KNN\" : KNeighborsRegressor(),\n",
    "\"Desi_tree\" : DecisionTreeRegressor(),\n",
    "\"R_forest\" : RandomForestRegressor()\n",
    "         }"
   ]
  },
  {
   "cell_type": "code",
   "execution_count": 35,
   "id": "f37881c8",
   "metadata": {
    "execution": {
     "iopub.execute_input": "2024-09-20T06:39:33.966014Z",
     "iopub.status.busy": "2024-09-20T06:39:33.965262Z",
     "iopub.status.idle": "2024-09-20T06:39:57.158050Z",
     "shell.execute_reply": "2024-09-20T06:39:57.156924Z"
    },
    "papermill": {
     "duration": 23.219264,
     "end_time": "2024-09-20T06:39:57.161013",
     "exception": false,
     "start_time": "2024-09-20T06:39:33.941749",
     "status": "completed"
    },
    "tags": []
   },
   "outputs": [],
   "source": [
    "trained_models = []\n",
    "for model_name, model in models.items():\n",
    "    model.fit(X_train_scaled,y_train)\n",
    "    trained_models.append((model_name, model))"
   ]
  },
  {
   "cell_type": "code",
   "execution_count": 36,
   "id": "ae4bcc54",
   "metadata": {
    "execution": {
     "iopub.execute_input": "2024-09-20T06:39:57.207555Z",
     "iopub.status.busy": "2024-09-20T06:39:57.207084Z",
     "iopub.status.idle": "2024-09-20T06:39:57.217571Z",
     "shell.execute_reply": "2024-09-20T06:39:57.216419Z"
    },
    "papermill": {
     "duration": 0.036804,
     "end_time": "2024-09-20T06:39:57.220090",
     "exception": false,
     "start_time": "2024-09-20T06:39:57.183286",
     "status": "completed"
    },
    "tags": []
   },
   "outputs": [
    {
     "data": {
      "text/plain": [
       "[('Linear_reg', LinearRegression()),\n",
       " ('KNN', KNeighborsRegressor()),\n",
       " ('Desi_tree', DecisionTreeRegressor()),\n",
       " ('R_forest', RandomForestRegressor())]"
      ]
     },
     "execution_count": 36,
     "metadata": {},
     "output_type": "execute_result"
    }
   ],
   "source": [
    "trained_models"
   ]
  },
  {
   "cell_type": "markdown",
   "id": "13b79bf9",
   "metadata": {
    "papermill": {
     "duration": 0.02197,
     "end_time": "2024-09-20T06:39:57.264906",
     "exception": false,
     "start_time": "2024-09-20T06:39:57.242936",
     "status": "completed"
    },
    "tags": []
   },
   "source": [
    "# 6. **ML Score**"
   ]
  },
  {
   "cell_type": "code",
   "execution_count": 37,
   "id": "2b70cfdf",
   "metadata": {
    "execution": {
     "iopub.execute_input": "2024-09-20T06:39:57.311250Z",
     "iopub.status.busy": "2024-09-20T06:39:57.310802Z",
     "iopub.status.idle": "2024-09-20T06:39:59.184377Z",
     "shell.execute_reply": "2024-09-20T06:39:59.182954Z"
    },
    "papermill": {
     "duration": 1.899987,
     "end_time": "2024-09-20T06:39:59.187053",
     "exception": false,
     "start_time": "2024-09-20T06:39:57.287066",
     "status": "completed"
    },
    "tags": []
   },
   "outputs": [
    {
     "data": {
      "text/plain": [
       "[{'Model': 'Linear_reg',\n",
       "  'Mean Squared Error': 2417888674.0170603,\n",
       "  'Mean Absolute Error': 17134.7870599836,\n",
       "  'R-squared': 0.6520591360686728},\n",
       " {'Model': 'KNN',\n",
       "  'Mean Squared Error': 319270843.85343236,\n",
       "  'Mean Absolute Error': 5489.995952868852,\n",
       "  'R-squared': 0.9540560430129782},\n",
       " {'Model': 'Desi_tree',\n",
       "  'Mean Squared Error': 8609555.738302596,\n",
       "  'Mean Absolute Error': 335.9481728142076,\n",
       "  'R-squared': 0.998761061129968},\n",
       " {'Model': 'R_forest',\n",
       "  'Mean Squared Error': 2718360.8601249317,\n",
       "  'Mean Absolute Error': 302.57481557377054,\n",
       "  'R-squared': 0.9996088203578961}]"
      ]
     },
     "execution_count": 37,
     "metadata": {},
     "output_type": "execute_result"
    }
   ],
   "source": [
    "metrics_list = []\n",
    "\n",
    "for model_name, model in models.items():\n",
    "\n",
    "    y_pred = model.predict(X_test_scaled)\n",
    "\n",
    "    mse = mean_squared_error(y_test, y_pred)\n",
    "    mae = mean_absolute_error(y_test, y_pred)\n",
    "    r2 = r2_score(y_test, y_pred)\n",
    "\n",
    "    metrics_list.append({\n",
    "        'Model': model_name,\n",
    "        'Mean Squared Error': mse,\n",
    "        'Mean Absolute Error': mae,\n",
    "        'R-squared': r2,\n",
    "    })\n",
    "\n",
    "# Display the metrics list\n",
    "metrics_list"
   ]
  },
  {
   "cell_type": "code",
   "execution_count": 38,
   "id": "148c2b23",
   "metadata": {
    "execution": {
     "iopub.execute_input": "2024-09-20T06:39:59.237154Z",
     "iopub.status.busy": "2024-09-20T06:39:59.235853Z",
     "iopub.status.idle": "2024-09-20T06:39:59.246877Z",
     "shell.execute_reply": "2024-09-20T06:39:59.245566Z"
    },
    "papermill": {
     "duration": 0.040238,
     "end_time": "2024-09-20T06:39:59.250196",
     "exception": false,
     "start_time": "2024-09-20T06:39:59.209958",
     "status": "completed"
    },
    "tags": []
   },
   "outputs": [
    {
     "name": "stdout",
     "output_type": "stream",
     "text": [
      "        Model  Mean Squared Error  Mean Absolute Error  R-squared\n",
      "0  Linear_reg        2.417889e+09         17134.787060   0.652059\n",
      "1         KNN        3.192708e+08          5489.995953   0.954056\n",
      "2   Desi_tree        8.609556e+06           335.948173   0.998761\n",
      "3    R_forest        2.718361e+06           302.574816   0.999609\n"
     ]
    }
   ],
   "source": [
    "metrics_df = pd.DataFrame(metrics_list)\n",
    "print(metrics_df)"
   ]
  },
  {
   "cell_type": "code",
   "execution_count": 39,
   "id": "f7f3938f",
   "metadata": {
    "execution": {
     "iopub.execute_input": "2024-09-20T06:39:59.301144Z",
     "iopub.status.busy": "2024-09-20T06:39:59.299690Z",
     "iopub.status.idle": "2024-09-20T06:39:59.309035Z",
     "shell.execute_reply": "2024-09-20T06:39:59.307749Z"
    },
    "papermill": {
     "duration": 0.038842,
     "end_time": "2024-09-20T06:39:59.312550",
     "exception": false,
     "start_time": "2024-09-20T06:39:59.273708",
     "status": "completed"
    },
    "tags": []
   },
   "outputs": [
    {
     "name": "stdout",
     "output_type": "stream",
     "text": [
      "Model                        R_forest\n",
      "Mean Squared Error     2718360.860125\n",
      "Mean Absolute Error        302.574816\n",
      "R-squared                    0.999609\n",
      "Name: 3, dtype: object\n"
     ]
    }
   ],
   "source": [
    "best_model = metrics_df.loc[metrics_df['R-squared'].idxmax()]\n",
    "print(best_model)"
   ]
  },
  {
   "cell_type": "code",
   "execution_count": 40,
   "id": "9202b948",
   "metadata": {
    "execution": {
     "iopub.execute_input": "2024-09-20T06:39:59.364946Z",
     "iopub.status.busy": "2024-09-20T06:39:59.363605Z",
     "iopub.status.idle": "2024-09-20T06:40:00.976801Z",
     "shell.execute_reply": "2024-09-20T06:40:00.975452Z"
    },
    "papermill": {
     "duration": 1.643335,
     "end_time": "2024-09-20T06:40:00.979696",
     "exception": false,
     "start_time": "2024-09-20T06:39:59.336361",
     "status": "completed"
    },
    "tags": []
   },
   "outputs": [
    {
     "name": "stdout",
     "output_type": "stream",
     "text": [
      "Training Accuracy: 99.99\n",
      "Test Accuracy: 99.96\n"
     ]
    }
   ],
   "source": [
    "train_accuracy = model.score(X_train_scaled, y_train)\n",
    "print(f\"Training Accuracy: {round(train_accuracy*100,2)}\")\n",
    "\n",
    "test_accuracy = model.score(X_test_scaled, y_test)\n",
    "print(f\"Test Accuracy: {round(test_accuracy*100,2)}\")\n"
   ]
  },
  {
   "cell_type": "markdown",
   "id": "13c9c40a",
   "metadata": {
    "papermill": {
     "duration": 0.023035,
     "end_time": "2024-09-20T06:40:01.026702",
     "exception": false,
     "start_time": "2024-09-20T06:40:01.003667",
     "status": "completed"
    },
    "tags": []
   },
   "source": [
    "# 7. **Test the model**"
   ]
  },
  {
   "cell_type": "code",
   "execution_count": 41,
   "id": "17296fd0",
   "metadata": {
    "execution": {
     "iopub.execute_input": "2024-09-20T06:40:01.076875Z",
     "iopub.status.busy": "2024-09-20T06:40:01.075851Z",
     "iopub.status.idle": "2024-09-20T06:40:01.095057Z",
     "shell.execute_reply": "2024-09-20T06:40:01.093749Z"
    },
    "papermill": {
     "duration": 0.047709,
     "end_time": "2024-09-20T06:40:01.098205",
     "exception": false,
     "start_time": "2024-09-20T06:40:01.050496",
     "status": "completed"
    },
    "tags": []
   },
   "outputs": [
    {
     "name": "stderr",
     "output_type": "stream",
     "text": [
      "/opt/conda/lib/python3.10/site-packages/sklearn/base.py:439: UserWarning: X does not have valid feature names, but StandardScaler was fitted with feature names\n",
      "  warnings.warn(\n"
     ]
    },
    {
     "data": {
      "text/plain": [
       "array([10947.])"
      ]
     },
     "execution_count": 41,
     "metadata": {},
     "output_type": "execute_result"
    }
   ],
   "source": [
    "model.predict(scaler.transform([[122,1,2,0,1239904,0,2023,12,3]]))"
   ]
  },
  {
   "cell_type": "code",
   "execution_count": 42,
   "id": "bb3aec75",
   "metadata": {
    "execution": {
     "iopub.execute_input": "2024-09-20T06:40:01.149990Z",
     "iopub.status.busy": "2024-09-20T06:40:01.148482Z",
     "iopub.status.idle": "2024-09-20T06:40:01.165724Z",
     "shell.execute_reply": "2024-09-20T06:40:01.164447Z"
    },
    "papermill": {
     "duration": 0.046478,
     "end_time": "2024-09-20T06:40:01.168593",
     "exception": false,
     "start_time": "2024-09-20T06:40:01.122115",
     "status": "completed"
    },
    "tags": []
   },
   "outputs": [
    {
     "data": {
      "text/html": [
       "<div>\n",
       "<style scoped>\n",
       "    .dataframe tbody tr th:only-of-type {\n",
       "        vertical-align: middle;\n",
       "    }\n",
       "\n",
       "    .dataframe tbody tr th {\n",
       "        vertical-align: top;\n",
       "    }\n",
       "\n",
       "    .dataframe thead th {\n",
       "        text-align: right;\n",
       "    }\n",
       "</style>\n",
       "<table border=\"1\" class=\"dataframe\">\n",
       "  <thead>\n",
       "    <tr style=\"text-align: right;\">\n",
       "      <th></th>\n",
       "      <th>Country</th>\n",
       "      <th>Continent</th>\n",
       "      <th>WHO_region</th>\n",
       "      <th>New_cases</th>\n",
       "      <th>Cumulative_cases</th>\n",
       "      <th>New_deaths</th>\n",
       "      <th>Year</th>\n",
       "      <th>Month</th>\n",
       "      <th>Day</th>\n",
       "    </tr>\n",
       "  </thead>\n",
       "  <tbody>\n",
       "    <tr>\n",
       "      <th>29972</th>\n",
       "      <td>122</td>\n",
       "      <td>1</td>\n",
       "      <td>2</td>\n",
       "      <td>0</td>\n",
       "      <td>1239904</td>\n",
       "      <td>0</td>\n",
       "      <td>2023</td>\n",
       "      <td>12</td>\n",
       "      <td>3</td>\n",
       "    </tr>\n",
       "    <tr>\n",
       "      <th>28147</th>\n",
       "      <td>115</td>\n",
       "      <td>0</td>\n",
       "      <td>0</td>\n",
       "      <td>5103</td>\n",
       "      <td>239692</td>\n",
       "      <td>84</td>\n",
       "      <td>2021</td>\n",
       "      <td>9</td>\n",
       "      <td>5</td>\n",
       "    </tr>\n",
       "    <tr>\n",
       "      <th>38656</th>\n",
       "      <td>158</td>\n",
       "      <td>4</td>\n",
       "      <td>6</td>\n",
       "      <td>0</td>\n",
       "      <td>0</td>\n",
       "      <td>0</td>\n",
       "      <td>2022</td>\n",
       "      <td>1</td>\n",
       "      <td>2</td>\n",
       "    </tr>\n",
       "    <tr>\n",
       "      <th>15673</th>\n",
       "      <td>64</td>\n",
       "      <td>0</td>\n",
       "      <td>0</td>\n",
       "      <td>191</td>\n",
       "      <td>2326</td>\n",
       "      <td>0</td>\n",
       "      <td>2021</td>\n",
       "      <td>2</td>\n",
       "      <td>7</td>\n",
       "    </tr>\n",
       "    <tr>\n",
       "      <th>18551</th>\n",
       "      <td>76</td>\n",
       "      <td>0</td>\n",
       "      <td>0</td>\n",
       "      <td>0</td>\n",
       "      <td>0</td>\n",
       "      <td>0</td>\n",
       "      <td>2020</td>\n",
       "      <td>2</td>\n",
       "      <td>23</td>\n",
       "    </tr>\n",
       "  </tbody>\n",
       "</table>\n",
       "</div>"
      ],
      "text/plain": [
       "       Country  Continent  WHO_region  New_cases  Cumulative_cases  \\\n",
       "29972      122          1           2          0           1239904   \n",
       "28147      115          0           0       5103            239692   \n",
       "38656      158          4           6          0                 0   \n",
       "15673       64          0           0        191              2326   \n",
       "18551       76          0           0          0                 0   \n",
       "\n",
       "       New_deaths  Year  Month  Day  \n",
       "29972           0  2023     12    3  \n",
       "28147          84  2021      9    5  \n",
       "38656           0  2022      1    2  \n",
       "15673           0  2021      2    7  \n",
       "18551           0  2020      2   23  "
      ]
     },
     "execution_count": 42,
     "metadata": {},
     "output_type": "execute_result"
    }
   ],
   "source": [
    "X_train.head()"
   ]
  },
  {
   "cell_type": "code",
   "execution_count": 43,
   "id": "32722f61",
   "metadata": {
    "execution": {
     "iopub.execute_input": "2024-09-20T06:40:01.223563Z",
     "iopub.status.busy": "2024-09-20T06:40:01.221761Z",
     "iopub.status.idle": "2024-09-20T06:40:01.232620Z",
     "shell.execute_reply": "2024-09-20T06:40:01.231302Z"
    },
    "papermill": {
     "duration": 0.041869,
     "end_time": "2024-09-20T06:40:01.235724",
     "exception": false,
     "start_time": "2024-09-20T06:40:01.193855",
     "status": "completed"
    },
    "tags": []
   },
   "outputs": [
    {
     "data": {
      "text/plain": [
       "29972    10947\n",
       "28147     4778\n",
       "38656        0\n",
       "15673        7\n",
       "18551        0\n",
       "Name: Cumulative_deaths, dtype: int64"
      ]
     },
     "execution_count": 43,
     "metadata": {},
     "output_type": "execute_result"
    }
   ],
   "source": [
    "y_train.head()"
   ]
  },
  {
   "cell_type": "code",
   "execution_count": null,
   "id": "2919d6aa",
   "metadata": {
    "papermill": {
     "duration": 0.024796,
     "end_time": "2024-09-20T06:40:01.285965",
     "exception": false,
     "start_time": "2024-09-20T06:40:01.261169",
     "status": "completed"
    },
    "tags": []
   },
   "outputs": [],
   "source": []
  }
 ],
 "metadata": {
  "kaggle": {
   "accelerator": "none",
   "dataSources": [
    {
     "datasetId": 5709149,
     "sourceId": 9404059,
     "sourceType": "datasetVersion"
    }
   ],
   "dockerImageVersionId": 30761,
   "isGpuEnabled": false,
   "isInternetEnabled": false,
   "language": "python",
   "sourceType": "notebook"
  },
  "kernelspec": {
   "display_name": "Python 3",
   "language": "python",
   "name": "python3"
  },
  "language_info": {
   "codemirror_mode": {
    "name": "ipython",
    "version": 3
   },
   "file_extension": ".py",
   "mimetype": "text/x-python",
   "name": "python",
   "nbconvert_exporter": "python",
   "pygments_lexer": "ipython3",
   "version": "3.10.14"
  },
  "papermill": {
   "default_parameters": {},
   "duration": 49.137755,
   "end_time": "2024-09-20T06:40:02.134588",
   "environment_variables": {},
   "exception": null,
   "input_path": "__notebook__.ipynb",
   "output_path": "__notebook__.ipynb",
   "parameters": {},
   "start_time": "2024-09-20T06:39:12.996833",
   "version": "2.6.0"
  }
 },
 "nbformat": 4,
 "nbformat_minor": 5
}
