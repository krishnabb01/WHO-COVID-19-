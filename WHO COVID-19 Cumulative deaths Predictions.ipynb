{
 "cells": [
  {
   "cell_type": "code",
   "execution_count": 1,
   "id": "32152686",
   "metadata": {
    "_cell_guid": "b1076dfc-b9ad-4769-8c92-a6c4dae69d19",
    "_uuid": "8f2839f25d086af736a60e9eeb907d3b93b6e0e5",
    "execution": {
     "iopub.execute_input": "2024-09-23T11:29:49.712908Z",
     "iopub.status.busy": "2024-09-23T11:29:49.711755Z",
     "iopub.status.idle": "2024-09-23T11:29:51.702559Z",
     "shell.execute_reply": "2024-09-23T11:29:51.701408Z"
    },
    "papermill": {
     "duration": 2.011495,
     "end_time": "2024-09-23T11:29:51.705423",
     "exception": false,
     "start_time": "2024-09-23T11:29:49.693928",
     "status": "completed"
    },
    "tags": []
   },
   "outputs": [
    {
     "name": "stdout",
     "output_type": "stream",
     "text": [
      "/kaggle/input/who-covid-19-cases-dataset/WHO COVID-19 cases.csv\n"
     ]
    }
   ],
   "source": [
    "# This Python 3 environment comes with many helpful analytics libraries installed\n",
    "# It is defined by the kaggle/python Docker image: https://github.com/kaggle/docker-python\n",
    "# For example, here's several helpful packages to load\n",
    "\n",
    "import numpy as np # linear algebra\n",
    "import pandas as pd # data processing, CSV file I/O (e.g. pd.read_csv)\n",
    "import matplotlib.pyplot as plt\n",
    "import seaborn as sns\n",
    "import warnings\n",
    "warnings.filterwarnings(\"ignore\", category=FutureWarning)\n",
    "\n",
    "\n",
    "# Input data files are available in the read-only \"../input/\" directory\n",
    "# For example, running this (by clicking run or pressing Shift+Enter) will list all files under the input directory\n",
    "\n",
    "import os\n",
    "for dirname, _, filenames in os.walk('/kaggle/input'):\n",
    "    for filename in filenames:\n",
    "        print(os.path.join(dirname, filename))\n",
    "\n",
    "# You can write up to 20GB to the current directory (/kaggle/working/) that gets preserved as output when you create a version using \"Save & Run All\" \n",
    "# You can also write temporary files to /kaggle/temp/, but they won't be saved outside of the current session"
   ]
  },
  {
   "cell_type": "markdown",
   "id": "cf0dfe0b",
   "metadata": {
    "papermill": {
     "duration": 0.014905,
     "end_time": "2024-09-23T11:29:51.736083",
     "exception": false,
     "start_time": "2024-09-23T11:29:51.721178",
     "status": "completed"
    },
    "tags": []
   },
   "source": [
    "# 1. **Data Import**"
   ]
  },
  {
   "cell_type": "code",
   "execution_count": 2,
   "id": "bb20bc1e",
   "metadata": {
    "execution": {
     "iopub.execute_input": "2024-09-23T11:29:51.769354Z",
     "iopub.status.busy": "2024-09-23T11:29:51.768227Z",
     "iopub.status.idle": "2024-09-23T11:29:51.937806Z",
     "shell.execute_reply": "2024-09-23T11:29:51.936830Z"
    },
    "papermill": {
     "duration": 0.188969,
     "end_time": "2024-09-23T11:29:51.940430",
     "exception": false,
     "start_time": "2024-09-23T11:29:51.751461",
     "status": "completed"
    },
    "tags": []
   },
   "outputs": [],
   "source": [
    "df = pd.read_csv(\"/kaggle/input/who-covid-19-cases-dataset/WHO COVID-19 cases.csv\")"
   ]
  },
  {
   "cell_type": "code",
   "execution_count": 3,
   "id": "b882cd2a",
   "metadata": {
    "execution": {
     "iopub.execute_input": "2024-09-23T11:29:51.973431Z",
     "iopub.status.busy": "2024-09-23T11:29:51.972643Z",
     "iopub.status.idle": "2024-09-23T11:29:51.999094Z",
     "shell.execute_reply": "2024-09-23T11:29:51.998098Z"
    },
    "papermill": {
     "duration": 0.045948,
     "end_time": "2024-09-23T11:29:52.001548",
     "exception": false,
     "start_time": "2024-09-23T11:29:51.955600",
     "status": "completed"
    },
    "tags": []
   },
   "outputs": [
    {
     "data": {
      "text/html": [
       "<div>\n",
       "<style scoped>\n",
       "    .dataframe tbody tr th:only-of-type {\n",
       "        vertical-align: middle;\n",
       "    }\n",
       "\n",
       "    .dataframe tbody tr th {\n",
       "        vertical-align: top;\n",
       "    }\n",
       "\n",
       "    .dataframe thead th {\n",
       "        text-align: right;\n",
       "    }\n",
       "</style>\n",
       "<table border=\"1\" class=\"dataframe\">\n",
       "  <thead>\n",
       "    <tr style=\"text-align: right;\">\n",
       "      <th></th>\n",
       "      <th>Date_reported</th>\n",
       "      <th>Country_code</th>\n",
       "      <th>Country</th>\n",
       "      <th>Continent</th>\n",
       "      <th>WHO_region</th>\n",
       "      <th>New_cases</th>\n",
       "      <th>Cumulative_cases</th>\n",
       "      <th>New_deaths</th>\n",
       "      <th>Cumulative_deaths</th>\n",
       "    </tr>\n",
       "  </thead>\n",
       "  <tbody>\n",
       "    <tr>\n",
       "      <th>0</th>\n",
       "      <td>2020-01-05</td>\n",
       "      <td>AF</td>\n",
       "      <td>Afghanistan</td>\n",
       "      <td>Asia</td>\n",
       "      <td>EMRO</td>\n",
       "      <td>NaN</td>\n",
       "      <td>0</td>\n",
       "      <td>NaN</td>\n",
       "      <td>0</td>\n",
       "    </tr>\n",
       "    <tr>\n",
       "      <th>1</th>\n",
       "      <td>2020-01-12</td>\n",
       "      <td>AF</td>\n",
       "      <td>Afghanistan</td>\n",
       "      <td>Asia</td>\n",
       "      <td>EMRO</td>\n",
       "      <td>NaN</td>\n",
       "      <td>0</td>\n",
       "      <td>NaN</td>\n",
       "      <td>0</td>\n",
       "    </tr>\n",
       "    <tr>\n",
       "      <th>2</th>\n",
       "      <td>2020-01-19</td>\n",
       "      <td>AF</td>\n",
       "      <td>Afghanistan</td>\n",
       "      <td>Asia</td>\n",
       "      <td>EMRO</td>\n",
       "      <td>NaN</td>\n",
       "      <td>0</td>\n",
       "      <td>NaN</td>\n",
       "      <td>0</td>\n",
       "    </tr>\n",
       "    <tr>\n",
       "      <th>3</th>\n",
       "      <td>2020-01-26</td>\n",
       "      <td>AF</td>\n",
       "      <td>Afghanistan</td>\n",
       "      <td>Asia</td>\n",
       "      <td>EMRO</td>\n",
       "      <td>NaN</td>\n",
       "      <td>0</td>\n",
       "      <td>NaN</td>\n",
       "      <td>0</td>\n",
       "    </tr>\n",
       "    <tr>\n",
       "      <th>4</th>\n",
       "      <td>2020-02-02</td>\n",
       "      <td>AF</td>\n",
       "      <td>Afghanistan</td>\n",
       "      <td>Asia</td>\n",
       "      <td>EMRO</td>\n",
       "      <td>NaN</td>\n",
       "      <td>0</td>\n",
       "      <td>NaN</td>\n",
       "      <td>0</td>\n",
       "    </tr>\n",
       "  </tbody>\n",
       "</table>\n",
       "</div>"
      ],
      "text/plain": [
       "  Date_reported Country_code      Country Continent WHO_region  New_cases  \\\n",
       "0    2020-01-05           AF  Afghanistan      Asia       EMRO        NaN   \n",
       "1    2020-01-12           AF  Afghanistan      Asia       EMRO        NaN   \n",
       "2    2020-01-19           AF  Afghanistan      Asia       EMRO        NaN   \n",
       "3    2020-01-26           AF  Afghanistan      Asia       EMRO        NaN   \n",
       "4    2020-02-02           AF  Afghanistan      Asia       EMRO        NaN   \n",
       "\n",
       "   Cumulative_cases  New_deaths  Cumulative_deaths  \n",
       "0                 0         NaN                  0  \n",
       "1                 0         NaN                  0  \n",
       "2                 0         NaN                  0  \n",
       "3                 0         NaN                  0  \n",
       "4                 0         NaN                  0  "
      ]
     },
     "execution_count": 3,
     "metadata": {},
     "output_type": "execute_result"
    }
   ],
   "source": [
    "df.head()"
   ]
  },
  {
   "cell_type": "markdown",
   "id": "2cd56e83",
   "metadata": {
    "papermill": {
     "duration": 0.01611,
     "end_time": "2024-09-23T11:29:52.033176",
     "exception": false,
     "start_time": "2024-09-23T11:29:52.017066",
     "status": "completed"
    },
    "tags": []
   },
   "source": [
    "# 2. **Data Cleaning**"
   ]
  },
  {
   "cell_type": "code",
   "execution_count": 4,
   "id": "6186d7b8",
   "metadata": {
    "execution": {
     "iopub.execute_input": "2024-09-23T11:29:52.066743Z",
     "iopub.status.busy": "2024-09-23T11:29:52.066300Z",
     "iopub.status.idle": "2024-09-23T11:29:52.119588Z",
     "shell.execute_reply": "2024-09-23T11:29:52.118529Z"
    },
    "papermill": {
     "duration": 0.072874,
     "end_time": "2024-09-23T11:29:52.122175",
     "exception": false,
     "start_time": "2024-09-23T11:29:52.049301",
     "status": "completed"
    },
    "tags": []
   },
   "outputs": [
    {
     "name": "stdout",
     "output_type": "stream",
     "text": [
      "<class 'pandas.core.frame.DataFrame'>\n",
      "RangeIndex: 58560 entries, 0 to 58559\n",
      "Data columns (total 9 columns):\n",
      " #   Column             Non-Null Count  Dtype  \n",
      "---  ------             --------------  -----  \n",
      " 0   Date_reported      58560 non-null  object \n",
      " 1   Country_code       58316 non-null  object \n",
      " 2   Country            58560 non-null  object \n",
      " 3   Continent          58560 non-null  object \n",
      " 4   WHO_region         54168 non-null  object \n",
      " 5   New_cases          39260 non-null  float64\n",
      " 6   Cumulative_cases   58560 non-null  int64  \n",
      " 7   New_deaths         25084 non-null  float64\n",
      " 8   Cumulative_deaths  58560 non-null  int64  \n",
      "dtypes: float64(2), int64(2), object(5)\n",
      "memory usage: 4.0+ MB\n"
     ]
    }
   ],
   "source": [
    "df.info()"
   ]
  },
  {
   "cell_type": "code",
   "execution_count": 5,
   "id": "8d42f914",
   "metadata": {
    "execution": {
     "iopub.execute_input": "2024-09-23T11:29:52.155500Z",
     "iopub.status.busy": "2024-09-23T11:29:52.155082Z",
     "iopub.status.idle": "2024-09-23T11:29:52.241538Z",
     "shell.execute_reply": "2024-09-23T11:29:52.240435Z"
    },
    "papermill": {
     "duration": 0.105954,
     "end_time": "2024-09-23T11:29:52.243980",
     "exception": false,
     "start_time": "2024-09-23T11:29:52.138026",
     "status": "completed"
    },
    "tags": []
   },
   "outputs": [
    {
     "name": "stdout",
     "output_type": "stream",
     "text": [
      "Date_reported            0\n",
      "Country_code           244\n",
      "Country                  0\n",
      "Continent                0\n",
      "WHO_region            4392\n",
      "New_cases            19300\n",
      "Cumulative_cases         0\n",
      "New_deaths           33476\n",
      "Cumulative_deaths        0\n",
      "dtype: int64\n",
      "0\n"
     ]
    }
   ],
   "source": [
    "print(df.isnull().sum())\n",
    "print(df.duplicated().sum())"
   ]
  },
  {
   "cell_type": "code",
   "execution_count": 6,
   "id": "a287df8e",
   "metadata": {
    "execution": {
     "iopub.execute_input": "2024-09-23T11:29:52.277359Z",
     "iopub.status.busy": "2024-09-23T11:29:52.276711Z",
     "iopub.status.idle": "2024-09-23T11:29:52.286541Z",
     "shell.execute_reply": "2024-09-23T11:29:52.285630Z"
    },
    "papermill": {
     "duration": 0.028922,
     "end_time": "2024-09-23T11:29:52.288804",
     "exception": false,
     "start_time": "2024-09-23T11:29:52.259882",
     "status": "completed"
    },
    "tags": []
   },
   "outputs": [],
   "source": [
    "df.drop(\"Country_code\",axis = 1,inplace = True)"
   ]
  },
  {
   "cell_type": "code",
   "execution_count": 7,
   "id": "06834cea",
   "metadata": {
    "execution": {
     "iopub.execute_input": "2024-09-23T11:29:52.323789Z",
     "iopub.status.busy": "2024-09-23T11:29:52.323080Z",
     "iopub.status.idle": "2024-09-23T11:29:52.328827Z",
     "shell.execute_reply": "2024-09-23T11:29:52.327915Z"
    },
    "papermill": {
     "duration": 0.02603,
     "end_time": "2024-09-23T11:29:52.330969",
     "exception": false,
     "start_time": "2024-09-23T11:29:52.304939",
     "status": "completed"
    },
    "tags": []
   },
   "outputs": [],
   "source": [
    "df[\"New_cases\"].fillna(0, inplace = True)"
   ]
  },
  {
   "cell_type": "code",
   "execution_count": 8,
   "id": "fac52c3f",
   "metadata": {
    "execution": {
     "iopub.execute_input": "2024-09-23T11:29:52.364587Z",
     "iopub.status.busy": "2024-09-23T11:29:52.363911Z",
     "iopub.status.idle": "2024-09-23T11:29:52.369597Z",
     "shell.execute_reply": "2024-09-23T11:29:52.368593Z"
    },
    "papermill": {
     "duration": 0.024825,
     "end_time": "2024-09-23T11:29:52.371751",
     "exception": false,
     "start_time": "2024-09-23T11:29:52.346926",
     "status": "completed"
    },
    "tags": []
   },
   "outputs": [],
   "source": [
    "df[\"New_deaths\"].fillna(0,inplace = True)"
   ]
  },
  {
   "cell_type": "code",
   "execution_count": 9,
   "id": "bd22206e",
   "metadata": {
    "execution": {
     "iopub.execute_input": "2024-09-23T11:29:52.406459Z",
     "iopub.status.busy": "2024-09-23T11:29:52.405775Z",
     "iopub.status.idle": "2024-09-23T11:29:52.422991Z",
     "shell.execute_reply": "2024-09-23T11:29:52.422007Z"
    },
    "papermill": {
     "duration": 0.036446,
     "end_time": "2024-09-23T11:29:52.425297",
     "exception": false,
     "start_time": "2024-09-23T11:29:52.388851",
     "status": "completed"
    },
    "tags": []
   },
   "outputs": [
    {
     "data": {
      "text/plain": [
       "Continent\n",
       "Africa           13908\n",
       "Europe           11956\n",
       "Asia             11712\n",
       "North America    10248\n",
       "Oceania           4636\n",
       "South America     3172\n",
       "Uncategorized     1464\n",
       "island            1464\n",
       "Name: count, dtype: int64"
      ]
     },
     "execution_count": 9,
     "metadata": {},
     "output_type": "execute_result"
    }
   ],
   "source": [
    "df['Continent'].value_counts()"
   ]
  },
  {
   "cell_type": "code",
   "execution_count": 10,
   "id": "e6bf140c",
   "metadata": {
    "execution": {
     "iopub.execute_input": "2024-09-23T11:29:52.459748Z",
     "iopub.status.busy": "2024-09-23T11:29:52.458945Z",
     "iopub.status.idle": "2024-09-23T11:29:52.488256Z",
     "shell.execute_reply": "2024-09-23T11:29:52.487180Z"
    },
    "papermill": {
     "duration": 0.049442,
     "end_time": "2024-09-23T11:29:52.490843",
     "exception": false,
     "start_time": "2024-09-23T11:29:52.441401",
     "status": "completed"
    },
    "tags": []
   },
   "outputs": [
    {
     "data": {
      "text/html": [
       "<div>\n",
       "<style scoped>\n",
       "    .dataframe tbody tr th:only-of-type {\n",
       "        vertical-align: middle;\n",
       "    }\n",
       "\n",
       "    .dataframe tbody tr th {\n",
       "        vertical-align: top;\n",
       "    }\n",
       "\n",
       "    .dataframe thead th {\n",
       "        text-align: right;\n",
       "    }\n",
       "</style>\n",
       "<table border=\"1\" class=\"dataframe\">\n",
       "  <thead>\n",
       "    <tr style=\"text-align: right;\">\n",
       "      <th></th>\n",
       "      <th>Continent</th>\n",
       "      <th>WHO_region</th>\n",
       "    </tr>\n",
       "  </thead>\n",
       "  <tbody>\n",
       "    <tr>\n",
       "      <th>0</th>\n",
       "      <td>Africa</td>\n",
       "      <td>[AFRO, EMRO, nan]</td>\n",
       "    </tr>\n",
       "    <tr>\n",
       "      <th>1</th>\n",
       "      <td>Asia</td>\n",
       "      <td>[EMRO, EURO, SEARO, WPRO]</td>\n",
       "    </tr>\n",
       "    <tr>\n",
       "      <th>2</th>\n",
       "      <td>Europe</td>\n",
       "      <td>[EURO, nan]</td>\n",
       "    </tr>\n",
       "    <tr>\n",
       "      <th>3</th>\n",
       "      <td>North America</td>\n",
       "      <td>[AMRO, nan, EURO]</td>\n",
       "    </tr>\n",
       "    <tr>\n",
       "      <th>4</th>\n",
       "      <td>Oceania</td>\n",
       "      <td>[WPRO]</td>\n",
       "    </tr>\n",
       "    <tr>\n",
       "      <th>5</th>\n",
       "      <td>South America</td>\n",
       "      <td>[AMRO, nan]</td>\n",
       "    </tr>\n",
       "    <tr>\n",
       "      <th>6</th>\n",
       "      <td>Uncategorized</td>\n",
       "      <td>[OTHER]</td>\n",
       "    </tr>\n",
       "    <tr>\n",
       "      <th>7</th>\n",
       "      <td>island</td>\n",
       "      <td>[WPRO, nan]</td>\n",
       "    </tr>\n",
       "  </tbody>\n",
       "</table>\n",
       "</div>"
      ],
      "text/plain": [
       "       Continent                 WHO_region\n",
       "0         Africa          [AFRO, EMRO, nan]\n",
       "1           Asia  [EMRO, EURO, SEARO, WPRO]\n",
       "2         Europe                [EURO, nan]\n",
       "3  North America          [AMRO, nan, EURO]\n",
       "4        Oceania                     [WPRO]\n",
       "5  South America                [AMRO, nan]\n",
       "6  Uncategorized                    [OTHER]\n",
       "7         island                [WPRO, nan]"
      ]
     },
     "execution_count": 10,
     "metadata": {},
     "output_type": "execute_result"
    }
   ],
   "source": [
    "df.groupby('Continent')['WHO_region'].unique().reset_index()"
   ]
  },
  {
   "cell_type": "code",
   "execution_count": 11,
   "id": "866dc133",
   "metadata": {
    "execution": {
     "iopub.execute_input": "2024-09-23T11:29:52.526284Z",
     "iopub.status.busy": "2024-09-23T11:29:52.525567Z",
     "iopub.status.idle": "2024-09-23T11:29:52.531292Z",
     "shell.execute_reply": "2024-09-23T11:29:52.530282Z"
    },
    "papermill": {
     "duration": 0.025789,
     "end_time": "2024-09-23T11:29:52.533472",
     "exception": false,
     "start_time": "2024-09-23T11:29:52.507683",
     "status": "completed"
    },
    "tags": []
   },
   "outputs": [],
   "source": [
    "Conti_who = {\"South America\" : \"AMRO\",\n",
    "            \"Europe\" : \"EURO\",\n",
    "            \"Africa\" : \"AFRO\",\n",
    "            \"island\" : \"WPRO\",\n",
    "            \"North America\" : \"AMRO\"}"
   ]
  },
  {
   "cell_type": "code",
   "execution_count": 12,
   "id": "814f0c81",
   "metadata": {
    "execution": {
     "iopub.execute_input": "2024-09-23T11:29:52.568558Z",
     "iopub.status.busy": "2024-09-23T11:29:52.568146Z",
     "iopub.status.idle": "2024-09-23T11:29:52.589446Z",
     "shell.execute_reply": "2024-09-23T11:29:52.588381Z"
    },
    "papermill": {
     "duration": 0.041879,
     "end_time": "2024-09-23T11:29:52.591994",
     "exception": false,
     "start_time": "2024-09-23T11:29:52.550115",
     "status": "completed"
    },
    "tags": []
   },
   "outputs": [],
   "source": [
    "df['WHO_region'] = df['WHO_region'].combine_first(df['Continent'].map(Conti_who))"
   ]
  },
  {
   "cell_type": "code",
   "execution_count": 13,
   "id": "80d64ce3",
   "metadata": {
    "execution": {
     "iopub.execute_input": "2024-09-23T11:29:52.627584Z",
     "iopub.status.busy": "2024-09-23T11:29:52.626651Z",
     "iopub.status.idle": "2024-09-23T11:29:52.654074Z",
     "shell.execute_reply": "2024-09-23T11:29:52.653083Z"
    },
    "papermill": {
     "duration": 0.047773,
     "end_time": "2024-09-23T11:29:52.656364",
     "exception": false,
     "start_time": "2024-09-23T11:29:52.608591",
     "status": "completed"
    },
    "tags": []
   },
   "outputs": [
    {
     "data": {
      "text/html": [
       "<div>\n",
       "<style scoped>\n",
       "    .dataframe tbody tr th:only-of-type {\n",
       "        vertical-align: middle;\n",
       "    }\n",
       "\n",
       "    .dataframe tbody tr th {\n",
       "        vertical-align: top;\n",
       "    }\n",
       "\n",
       "    .dataframe thead th {\n",
       "        text-align: right;\n",
       "    }\n",
       "</style>\n",
       "<table border=\"1\" class=\"dataframe\">\n",
       "  <thead>\n",
       "    <tr style=\"text-align: right;\">\n",
       "      <th></th>\n",
       "      <th>Continent</th>\n",
       "      <th>WHO_region</th>\n",
       "    </tr>\n",
       "  </thead>\n",
       "  <tbody>\n",
       "    <tr>\n",
       "      <th>0</th>\n",
       "      <td>Africa</td>\n",
       "      <td>[AFRO, EMRO]</td>\n",
       "    </tr>\n",
       "    <tr>\n",
       "      <th>1</th>\n",
       "      <td>Asia</td>\n",
       "      <td>[EMRO, EURO, SEARO, WPRO]</td>\n",
       "    </tr>\n",
       "    <tr>\n",
       "      <th>2</th>\n",
       "      <td>Europe</td>\n",
       "      <td>[EURO]</td>\n",
       "    </tr>\n",
       "    <tr>\n",
       "      <th>3</th>\n",
       "      <td>North America</td>\n",
       "      <td>[AMRO, EURO]</td>\n",
       "    </tr>\n",
       "    <tr>\n",
       "      <th>4</th>\n",
       "      <td>Oceania</td>\n",
       "      <td>[WPRO]</td>\n",
       "    </tr>\n",
       "    <tr>\n",
       "      <th>5</th>\n",
       "      <td>South America</td>\n",
       "      <td>[AMRO]</td>\n",
       "    </tr>\n",
       "    <tr>\n",
       "      <th>6</th>\n",
       "      <td>Uncategorized</td>\n",
       "      <td>[OTHER]</td>\n",
       "    </tr>\n",
       "    <tr>\n",
       "      <th>7</th>\n",
       "      <td>island</td>\n",
       "      <td>[WPRO]</td>\n",
       "    </tr>\n",
       "  </tbody>\n",
       "</table>\n",
       "</div>"
      ],
      "text/plain": [
       "       Continent                 WHO_region\n",
       "0         Africa               [AFRO, EMRO]\n",
       "1           Asia  [EMRO, EURO, SEARO, WPRO]\n",
       "2         Europe                     [EURO]\n",
       "3  North America               [AMRO, EURO]\n",
       "4        Oceania                     [WPRO]\n",
       "5  South America                     [AMRO]\n",
       "6  Uncategorized                    [OTHER]\n",
       "7         island                     [WPRO]"
      ]
     },
     "execution_count": 13,
     "metadata": {},
     "output_type": "execute_result"
    }
   ],
   "source": [
    "df.groupby('Continent')['WHO_region'].unique().reset_index()"
   ]
  },
  {
   "cell_type": "code",
   "execution_count": 14,
   "id": "80cf7c8c",
   "metadata": {
    "execution": {
     "iopub.execute_input": "2024-09-23T11:29:52.691669Z",
     "iopub.status.busy": "2024-09-23T11:29:52.690893Z",
     "iopub.status.idle": "2024-09-23T11:29:52.800541Z",
     "shell.execute_reply": "2024-09-23T11:29:52.799426Z"
    },
    "papermill": {
     "duration": 0.130299,
     "end_time": "2024-09-23T11:29:52.803286",
     "exception": false,
     "start_time": "2024-09-23T11:29:52.672987",
     "status": "completed"
    },
    "tags": []
   },
   "outputs": [],
   "source": [
    "a = df[\"Date_reported\"].str.split(\"-\")\n",
    "df[\"Year\"] = [d[0] for d in a]\n",
    "df[\"Month\"] = [d[1] for d in a]\n",
    "df[\"Day\"] = [d[2] for d in a]"
   ]
  },
  {
   "cell_type": "code",
   "execution_count": 15,
   "id": "1a9c8c3d",
   "metadata": {
    "execution": {
     "iopub.execute_input": "2024-09-23T11:29:52.837935Z",
     "iopub.status.busy": "2024-09-23T11:29:52.837005Z",
     "iopub.status.idle": "2024-09-23T11:29:52.855942Z",
     "shell.execute_reply": "2024-09-23T11:29:52.854874Z"
    },
    "papermill": {
     "duration": 0.039013,
     "end_time": "2024-09-23T11:29:52.858545",
     "exception": false,
     "start_time": "2024-09-23T11:29:52.819532",
     "status": "completed"
    },
    "tags": []
   },
   "outputs": [],
   "source": [
    "df = df.drop(\"Date_reported\",axis = 1)"
   ]
  },
  {
   "cell_type": "code",
   "execution_count": 16,
   "id": "466c2acc",
   "metadata": {
    "execution": {
     "iopub.execute_input": "2024-09-23T11:29:52.893878Z",
     "iopub.status.busy": "2024-09-23T11:29:52.893202Z",
     "iopub.status.idle": "2024-09-23T11:29:52.930206Z",
     "shell.execute_reply": "2024-09-23T11:29:52.929060Z"
    },
    "papermill": {
     "duration": 0.057336,
     "end_time": "2024-09-23T11:29:52.932936",
     "exception": false,
     "start_time": "2024-09-23T11:29:52.875600",
     "status": "completed"
    },
    "tags": []
   },
   "outputs": [],
   "source": [
    "cols = ['Year', 'Month', 'Day','New_cases','New_deaths']\n",
    "\n",
    "for col in cols:\n",
    "    df[col] = df[col].astype(int)"
   ]
  },
  {
   "cell_type": "code",
   "execution_count": 17,
   "id": "55f65b6a",
   "metadata": {
    "execution": {
     "iopub.execute_input": "2024-09-23T11:29:52.967399Z",
     "iopub.status.busy": "2024-09-23T11:29:52.966576Z",
     "iopub.status.idle": "2024-09-23T11:29:52.997273Z",
     "shell.execute_reply": "2024-09-23T11:29:52.996039Z"
    },
    "papermill": {
     "duration": 0.050608,
     "end_time": "2024-09-23T11:29:52.999706",
     "exception": false,
     "start_time": "2024-09-23T11:29:52.949098",
     "status": "completed"
    },
    "tags": []
   },
   "outputs": [
    {
     "name": "stdout",
     "output_type": "stream",
     "text": [
      "<class 'pandas.core.frame.DataFrame'>\n",
      "RangeIndex: 58560 entries, 0 to 58559\n",
      "Data columns (total 10 columns):\n",
      " #   Column             Non-Null Count  Dtype \n",
      "---  ------             --------------  ----- \n",
      " 0   Country            58560 non-null  object\n",
      " 1   Continent          58560 non-null  object\n",
      " 2   WHO_region         58560 non-null  object\n",
      " 3   New_cases          58560 non-null  int64 \n",
      " 4   Cumulative_cases   58560 non-null  int64 \n",
      " 5   New_deaths         58560 non-null  int64 \n",
      " 6   Cumulative_deaths  58560 non-null  int64 \n",
      " 7   Year               58560 non-null  int64 \n",
      " 8   Month              58560 non-null  int64 \n",
      " 9   Day                58560 non-null  int64 \n",
      "dtypes: int64(7), object(3)\n",
      "memory usage: 4.5+ MB\n"
     ]
    }
   ],
   "source": [
    "df.info()"
   ]
  },
  {
   "cell_type": "markdown",
   "id": "206a90f4",
   "metadata": {
    "papermill": {
     "duration": 0.017227,
     "end_time": "2024-09-23T11:29:53.033292",
     "exception": false,
     "start_time": "2024-09-23T11:29:53.016065",
     "status": "completed"
    },
    "tags": []
   },
   "source": [
    "# 3. **Analysis**"
   ]
  },
  {
   "cell_type": "code",
   "execution_count": 18,
   "id": "cbf16cdf",
   "metadata": {
    "execution": {
     "iopub.execute_input": "2024-09-23T11:29:53.067210Z",
     "iopub.status.busy": "2024-09-23T11:29:53.066809Z",
     "iopub.status.idle": "2024-09-23T11:29:53.080934Z",
     "shell.execute_reply": "2024-09-23T11:29:53.079862Z"
    },
    "papermill": {
     "duration": 0.033895,
     "end_time": "2024-09-23T11:29:53.083324",
     "exception": false,
     "start_time": "2024-09-23T11:29:53.049429",
     "status": "completed"
    },
    "tags": []
   },
   "outputs": [
    {
     "data": {
      "text/html": [
       "<div>\n",
       "<style scoped>\n",
       "    .dataframe tbody tr th:only-of-type {\n",
       "        vertical-align: middle;\n",
       "    }\n",
       "\n",
       "    .dataframe tbody tr th {\n",
       "        vertical-align: top;\n",
       "    }\n",
       "\n",
       "    .dataframe thead th {\n",
       "        text-align: right;\n",
       "    }\n",
       "</style>\n",
       "<table border=\"1\" class=\"dataframe\">\n",
       "  <thead>\n",
       "    <tr style=\"text-align: right;\">\n",
       "      <th></th>\n",
       "      <th>Country</th>\n",
       "      <th>Continent</th>\n",
       "      <th>WHO_region</th>\n",
       "      <th>New_cases</th>\n",
       "      <th>Cumulative_cases</th>\n",
       "      <th>New_deaths</th>\n",
       "      <th>Cumulative_deaths</th>\n",
       "      <th>Year</th>\n",
       "      <th>Month</th>\n",
       "      <th>Day</th>\n",
       "    </tr>\n",
       "  </thead>\n",
       "  <tbody>\n",
       "    <tr>\n",
       "      <th>0</th>\n",
       "      <td>Afghanistan</td>\n",
       "      <td>Asia</td>\n",
       "      <td>EMRO</td>\n",
       "      <td>0</td>\n",
       "      <td>0</td>\n",
       "      <td>0</td>\n",
       "      <td>0</td>\n",
       "      <td>2020</td>\n",
       "      <td>1</td>\n",
       "      <td>5</td>\n",
       "    </tr>\n",
       "    <tr>\n",
       "      <th>1</th>\n",
       "      <td>Afghanistan</td>\n",
       "      <td>Asia</td>\n",
       "      <td>EMRO</td>\n",
       "      <td>0</td>\n",
       "      <td>0</td>\n",
       "      <td>0</td>\n",
       "      <td>0</td>\n",
       "      <td>2020</td>\n",
       "      <td>1</td>\n",
       "      <td>12</td>\n",
       "    </tr>\n",
       "    <tr>\n",
       "      <th>2</th>\n",
       "      <td>Afghanistan</td>\n",
       "      <td>Asia</td>\n",
       "      <td>EMRO</td>\n",
       "      <td>0</td>\n",
       "      <td>0</td>\n",
       "      <td>0</td>\n",
       "      <td>0</td>\n",
       "      <td>2020</td>\n",
       "      <td>1</td>\n",
       "      <td>19</td>\n",
       "    </tr>\n",
       "    <tr>\n",
       "      <th>3</th>\n",
       "      <td>Afghanistan</td>\n",
       "      <td>Asia</td>\n",
       "      <td>EMRO</td>\n",
       "      <td>0</td>\n",
       "      <td>0</td>\n",
       "      <td>0</td>\n",
       "      <td>0</td>\n",
       "      <td>2020</td>\n",
       "      <td>1</td>\n",
       "      <td>26</td>\n",
       "    </tr>\n",
       "    <tr>\n",
       "      <th>4</th>\n",
       "      <td>Afghanistan</td>\n",
       "      <td>Asia</td>\n",
       "      <td>EMRO</td>\n",
       "      <td>0</td>\n",
       "      <td>0</td>\n",
       "      <td>0</td>\n",
       "      <td>0</td>\n",
       "      <td>2020</td>\n",
       "      <td>2</td>\n",
       "      <td>2</td>\n",
       "    </tr>\n",
       "  </tbody>\n",
       "</table>\n",
       "</div>"
      ],
      "text/plain": [
       "       Country Continent WHO_region  New_cases  Cumulative_cases  New_deaths  \\\n",
       "0  Afghanistan      Asia       EMRO          0                 0           0   \n",
       "1  Afghanistan      Asia       EMRO          0                 0           0   \n",
       "2  Afghanistan      Asia       EMRO          0                 0           0   \n",
       "3  Afghanistan      Asia       EMRO          0                 0           0   \n",
       "4  Afghanistan      Asia       EMRO          0                 0           0   \n",
       "\n",
       "   Cumulative_deaths  Year  Month  Day  \n",
       "0                  0  2020      1    5  \n",
       "1                  0  2020      1   12  \n",
       "2                  0  2020      1   19  \n",
       "3                  0  2020      1   26  \n",
       "4                  0  2020      2    2  "
      ]
     },
     "execution_count": 18,
     "metadata": {},
     "output_type": "execute_result"
    }
   ],
   "source": [
    "df.head()"
   ]
  },
  {
   "cell_type": "markdown",
   "id": "2541e780",
   "metadata": {
    "papermill": {
     "duration": 0.016904,
     "end_time": "2024-09-23T11:29:53.118153",
     "exception": false,
     "start_time": "2024-09-23T11:29:53.101249",
     "status": "completed"
    },
    "tags": []
   },
   "source": [
    "**Years wise Cumulative Cases& deaths**"
   ]
  },
  {
   "cell_type": "code",
   "execution_count": 19,
   "id": "612f942a",
   "metadata": {
    "execution": {
     "iopub.execute_input": "2024-09-23T11:29:53.153571Z",
     "iopub.status.busy": "2024-09-23T11:29:53.152597Z",
     "iopub.status.idle": "2024-09-23T11:29:54.680647Z",
     "shell.execute_reply": "2024-09-23T11:29:54.679559Z"
    },
    "papermill": {
     "duration": 1.548105,
     "end_time": "2024-09-23T11:29:54.683198",
     "exception": false,
     "start_time": "2024-09-23T11:29:53.135093",
     "status": "completed"
    },
    "tags": []
   },
   "outputs": [
    {
     "data": {
      "image/png": "[encoded data removed]",
      "text/plain": [
       "<Figure size 1200x400 with 2 Axes>"
      ]
     },
     "metadata": {},
     "output_type": "display_data"
    }
   ],
   "source": [
    "plt.figure(figsize = (12,4))\n",
    "plt.subplot(1, 2, 1)\n",
    "sns.barplot(x=df['Year'], y=df['Cumulative_cases'],palette = \"coolwarm\")\n",
    "plt.title(\"Years - wise Cumulative cases\")\n",
    "\n",
    "plt.subplot(1, 2, 2)\n",
    "sns.barplot(x=df['Year'], y=df['Cumulative_deaths'],palette = \"coolwarm\")\n",
    "plt.title(\"Years - wise Cumulative deaths\")\n",
    "plt.show()"
   ]
  },
  {
   "cell_type": "markdown",
   "id": "cae4aab7",
   "metadata": {
    "papermill": {
     "duration": 0.017921,
     "end_time": "2024-09-23T11:29:54.719747",
     "exception": false,
     "start_time": "2024-09-23T11:29:54.701826",
     "status": "completed"
    },
    "tags": []
   },
   "source": [
    "**Months wise Cumulative Cases& deaths**"
   ]
  },
  {
   "cell_type": "code",
   "execution_count": 20,
   "id": "14abf3d5",
   "metadata": {
    "execution": {
     "iopub.execute_input": "2024-09-23T11:29:54.758296Z",
     "iopub.status.busy": "2024-09-23T11:29:54.757880Z",
     "iopub.status.idle": "2024-09-23T11:29:56.964493Z",
     "shell.execute_reply": "2024-09-23T11:29:56.963422Z"
    },
    "papermill": {
     "duration": 2.229149,
     "end_time": "2024-09-23T11:29:56.967803",
     "exception": false,
     "start_time": "2024-09-23T11:29:54.738654",
     "status": "completed"
    },
    "tags": []
   },
   "outputs": [
    {
     "data": {
      "image/png": "[encoded data removed]",
      "text/plain": [
       "<Figure size 1200x400 with 2 Axes>"
      ]
     },
     "metadata": {},
     "output_type": "display_data"
    }
   ],
   "source": [
    "plt.figure(figsize = (12,4))\n",
    "plt.subplot(1, 2, 1)\n",
    "sns.barplot(x=df['Month'], y=df['Cumulative_cases'],palette = \"coolwarm\")\n",
    "plt.title(\"Months - wise Cumulative cases\")\n",
    "\n",
    "plt.subplot(1, 2, 2)\n",
    "sns.barplot(x=df['Month'], y=df['Cumulative_deaths'],palette = \"coolwarm\")\n",
    "plt.title(\"Months - wise Cumulative deaths\")\n",
    "plt.show()"
   ]
  },
  {
   "cell_type": "markdown",
   "id": "ea0bf642",
   "metadata": {
    "papermill": {
     "duration": 0.022254,
     "end_time": "2024-09-23T11:29:57.015140",
     "exception": false,
     "start_time": "2024-09-23T11:29:56.992886",
     "status": "completed"
    },
    "tags": []
   },
   "source": [
    "**Days wise Cumulative Cases& deaths**"
   ]
  },
  {
   "cell_type": "code",
   "execution_count": 21,
   "id": "64ddfa54",
   "metadata": {
    "execution": {
     "iopub.execute_input": "2024-09-23T11:29:57.054792Z",
     "iopub.status.busy": "2024-09-23T11:29:57.054344Z",
     "iopub.status.idle": "2024-09-23T11:30:00.583879Z",
     "shell.execute_reply": "2024-09-23T11:30:00.582866Z"
    },
    "papermill": {
     "duration": 3.551383,
     "end_time": "2024-09-23T11:30:00.586528",
     "exception": false,
     "start_time": "2024-09-23T11:29:57.035145",
     "status": "completed"
    },
    "tags": []
   },
   "outputs": [
    {
     "data": {
      "image/png": "[encoded data removed]",
      "text/plain": [
       "<Figure size 1500x300 with 2 Axes>"
      ]
     },
     "metadata": {},
     "output_type": "display_data"
    }
   ],
   "source": [
    "plt.figure(figsize = (15,3))\n",
    "plt.subplot(1, 2, 1)\n",
    "sns.barplot(x=df['Day'], y=df['Cumulative_cases'],palette = \"coolwarm\")\n",
    "plt.title(\"Days - wise Cumulative cases\")\n",
    "\n",
    "plt.subplot(1, 2, 2)\n",
    "sns.barplot(x=df['Day'], y=df['Cumulative_deaths'],palette = \"coolwarm\")\n",
    "plt.title(\"Days - wise Cumulative deaths\")\n",
    "plt.show()"
   ]
  },
  {
   "cell_type": "markdown",
   "id": "91b0414b",
   "metadata": {
    "papermill": {
     "duration": 0.018494,
     "end_time": "2024-09-23T11:30:00.623849",
     "exception": false,
     "start_time": "2024-09-23T11:30:00.605355",
     "status": "completed"
    },
    "tags": []
   },
   "source": [
    "**WHO Region - wise Cumulative Cases& deaths**"
   ]
  },
  {
   "cell_type": "code",
   "execution_count": 22,
   "id": "bd42c4bc",
   "metadata": {
    "execution": {
     "iopub.execute_input": "2024-09-23T11:30:00.662566Z",
     "iopub.status.busy": "2024-09-23T11:30:00.661758Z",
     "iopub.status.idle": "2024-09-23T11:30:02.339008Z",
     "shell.execute_reply": "2024-09-23T11:30:02.337832Z"
    },
    "papermill": {
     "duration": 1.699494,
     "end_time": "2024-09-23T11:30:02.341757",
     "exception": false,
     "start_time": "2024-09-23T11:30:00.642263",
     "status": "completed"
    },
    "tags": []
   },
   "outputs": [
    {
     "data": {
      "image/png": "[encoded data removed]",
      "text/plain": [
       "<Figure size 1500x500 with 2 Axes>"
      ]
     },
     "metadata": {},
     "output_type": "display_data"
    }
   ],
   "source": [
    "plt.figure(figsize = (15,5))\n",
    "plt.subplot(1, 2, 1)\n",
    "sns.barplot(x=df['WHO_region'], y=df['Cumulative_cases'],palette = \"coolwarm\")\n",
    "plt.title(\"WHO_regions - wise Cumulative cases\")\n",
    "\n",
    "plt.subplot(1, 2, 2)\n",
    "sns.barplot(x=df['WHO_region'], y=df['Cumulative_deaths'],palette = \"coolwarm\")\n",
    "plt.title(\"WHO_regions - wise Cumulative deaths\")\n",
    "plt.show()"
   ]
  },
  {
   "cell_type": "markdown",
   "id": "b28a3f22",
   "metadata": {
    "papermill": {
     "duration": 0.018974,
     "end_time": "2024-09-23T11:30:02.380251",
     "exception": false,
     "start_time": "2024-09-23T11:30:02.361277",
     "status": "completed"
    },
    "tags": []
   },
   "source": [
    "**Continent - wise Cumulative Cases& deaths**"
   ]
  },
  {
   "cell_type": "code",
   "execution_count": 23,
   "id": "2a886ebd",
   "metadata": {
    "execution": {
     "iopub.execute_input": "2024-09-23T11:30:02.420464Z",
     "iopub.status.busy": "2024-09-23T11:30:02.419529Z",
     "iopub.status.idle": "2024-09-23T11:30:04.234533Z",
     "shell.execute_reply": "2024-09-23T11:30:04.233405Z"
    },
    "papermill": {
     "duration": 1.837758,
     "end_time": "2024-09-23T11:30:04.236997",
     "exception": false,
     "start_time": "2024-09-23T11:30:02.399239",
     "status": "completed"
    },
    "tags": []
   },
   "outputs": [
    {
     "data": {
      "image/png": "[encoded data removed]",
      "text/plain": [
       "<Figure size 2500x500 with 1 Axes>"
      ]
     },
     "metadata": {},
     "output_type": "display_data"
    },
    {
     "data": {
      "image/png": "[encoded data removed]",
      "text/plain": [
       "<Figure size 2500x500 with 1 Axes>"
      ]
     },
     "metadata": {},
     "output_type": "display_data"
    }
   ],
   "source": [
    "plt.figure(figsize = (25,5))\n",
    "plt.subplot(1, 2, 1)\n",
    "sns.barplot(x=df['Continent'], y=df['Cumulative_cases'],palette = \"coolwarm\")\n",
    "plt.title(\"Continent - wise Cumulative cases\")\n",
    "\n",
    "plt.figure(figsize = (25,5))\n",
    "plt.subplot(1, 2, 2)\n",
    "sns.barplot(x=df['Continent'], y=df['Cumulative_deaths'],palette = \"coolwarm\")\n",
    "plt.title(\"Continent - wise Cumulative deaths\")\n",
    "plt.show()"
   ]
  },
  {
   "cell_type": "markdown",
   "id": "e7f2b47e",
   "metadata": {
    "papermill": {
     "duration": 0.02003,
     "end_time": "2024-09-23T11:30:04.277750",
     "exception": false,
     "start_time": "2024-09-23T11:30:04.257720",
     "status": "completed"
    },
    "tags": []
   },
   "source": [
    "# 4. **PreProcessing**"
   ]
  },
  {
   "cell_type": "code",
   "execution_count": 24,
   "id": "6a495c72",
   "metadata": {
    "execution": {
     "iopub.execute_input": "2024-09-23T11:30:04.321460Z",
     "iopub.status.busy": "2024-09-23T11:30:04.320440Z",
     "iopub.status.idle": "2024-09-23T11:30:04.328778Z",
     "shell.execute_reply": "2024-09-23T11:30:04.327733Z"
    },
    "papermill": {
     "duration": 0.032787,
     "end_time": "2024-09-23T11:30:04.331111",
     "exception": false,
     "start_time": "2024-09-23T11:30:04.298324",
     "status": "completed"
    },
    "tags": []
   },
   "outputs": [],
   "source": [
    "cols = ['Year', 'Month', 'Day','New_cases','New_deaths']\n",
    "\n",
    "for col in cols:\n",
    "    df[col] = df[col].astype(int)"
   ]
  },
  {
   "cell_type": "code",
   "execution_count": 25,
   "id": "eba54873",
   "metadata": {
    "execution": {
     "iopub.execute_input": "2024-09-23T11:30:04.374970Z",
     "iopub.status.busy": "2024-09-23T11:30:04.374142Z",
     "iopub.status.idle": "2024-09-23T11:30:04.537135Z",
     "shell.execute_reply": "2024-09-23T11:30:04.536173Z"
    },
    "papermill": {
     "duration": 0.188004,
     "end_time": "2024-09-23T11:30:04.540071",
     "exception": false,
     "start_time": "2024-09-23T11:30:04.352067",
     "status": "completed"
    },
    "tags": []
   },
   "outputs": [],
   "source": [
    "from sklearn.preprocessing import LabelEncoder\n",
    "label = LabelEncoder()"
   ]
  },
  {
   "cell_type": "code",
   "execution_count": 26,
   "id": "67fada4b",
   "metadata": {
    "execution": {
     "iopub.execute_input": "2024-09-23T11:30:04.583446Z",
     "iopub.status.busy": "2024-09-23T11:30:04.582438Z",
     "iopub.status.idle": "2024-09-23T11:30:04.633318Z",
     "shell.execute_reply": "2024-09-23T11:30:04.632363Z"
    },
    "papermill": {
     "duration": 0.075303,
     "end_time": "2024-09-23T11:30:04.635957",
     "exception": false,
     "start_time": "2024-09-23T11:30:04.560654",
     "status": "completed"
    },
    "tags": []
   },
   "outputs": [],
   "source": [
    "cols = [\"Country\", \"Continent\", \"WHO_region\"]\n",
    "\n",
    "for i in cols:\n",
    "    df[i] = label.fit_transform(df[i])"
   ]
  },
  {
   "cell_type": "code",
   "execution_count": 27,
   "id": "bbf1625d",
   "metadata": {
    "execution": {
     "iopub.execute_input": "2024-09-23T11:30:04.729014Z",
     "iopub.status.busy": "2024-09-23T11:30:04.728098Z",
     "iopub.status.idle": "2024-09-23T11:30:04.769771Z",
     "shell.execute_reply": "2024-09-23T11:30:04.768711Z"
    },
    "papermill": {
     "duration": 0.115764,
     "end_time": "2024-09-23T11:30:04.772272",
     "exception": false,
     "start_time": "2024-09-23T11:30:04.656508",
     "status": "completed"
    },
    "tags": []
   },
   "outputs": [
    {
     "data": {
      "text/html": [
       "<div>\n",
       "<style scoped>\n",
       "    .dataframe tbody tr th:only-of-type {\n",
       "        vertical-align: middle;\n",
       "    }\n",
       "\n",
       "    .dataframe tbody tr th {\n",
       "        vertical-align: top;\n",
       "    }\n",
       "\n",
       "    .dataframe thead th {\n",
       "        text-align: right;\n",
       "    }\n",
       "</style>\n",
       "<table border=\"1\" class=\"dataframe\">\n",
       "  <thead>\n",
       "    <tr style=\"text-align: right;\">\n",
       "      <th></th>\n",
       "      <th>Country</th>\n",
       "      <th>Continent</th>\n",
       "      <th>WHO_region</th>\n",
       "      <th>New_cases</th>\n",
       "      <th>Cumulative_cases</th>\n",
       "      <th>New_deaths</th>\n",
       "      <th>Cumulative_deaths</th>\n",
       "      <th>Year</th>\n",
       "      <th>Month</th>\n",
       "      <th>Day</th>\n",
       "    </tr>\n",
       "  </thead>\n",
       "  <tbody>\n",
       "    <tr>\n",
       "      <th>Country</th>\n",
       "      <td>1.000000e+00</td>\n",
       "      <td>-4.911818e-04</td>\n",
       "      <td>1.228665e-01</td>\n",
       "      <td>0.003745</td>\n",
       "      <td>0.028884</td>\n",
       "      <td>0.031137</td>\n",
       "      <td>0.048048</td>\n",
       "      <td>-5.465278e-12</td>\n",
       "      <td>-2.507703e-15</td>\n",
       "      <td>-1.036814e-15</td>\n",
       "    </tr>\n",
       "    <tr>\n",
       "      <th>Continent</th>\n",
       "      <td>-4.911818e-04</td>\n",
       "      <td>1.000000e+00</td>\n",
       "      <td>4.057777e-01</td>\n",
       "      <td>-0.001165</td>\n",
       "      <td>0.005738</td>\n",
       "      <td>0.034870</td>\n",
       "      <td>0.062948</td>\n",
       "      <td>-7.830705e-14</td>\n",
       "      <td>3.163477e-16</td>\n",
       "      <td>-3.857880e-16</td>\n",
       "    </tr>\n",
       "    <tr>\n",
       "      <th>WHO_region</th>\n",
       "      <td>1.228665e-01</td>\n",
       "      <td>4.057777e-01</td>\n",
       "      <td>1.000000e+00</td>\n",
       "      <td>0.029675</td>\n",
       "      <td>0.087771</td>\n",
       "      <td>0.001901</td>\n",
       "      <td>-0.005052</td>\n",
       "      <td>-9.020761e-13</td>\n",
       "      <td>-1.220885e-16</td>\n",
       "      <td>-1.583266e-16</td>\n",
       "    </tr>\n",
       "    <tr>\n",
       "      <th>New_cases</th>\n",
       "      <td>3.744986e-03</td>\n",
       "      <td>-1.164864e-03</td>\n",
       "      <td>2.967511e-02</td>\n",
       "      <td>1.000000</td>\n",
       "      <td>0.162430</td>\n",
       "      <td>0.294423</td>\n",
       "      <td>0.122155</td>\n",
       "      <td>-1.036727e-02</td>\n",
       "      <td>-7.738908e-03</td>\n",
       "      <td>1.393315e-03</td>\n",
       "    </tr>\n",
       "    <tr>\n",
       "      <th>Cumulative_cases</th>\n",
       "      <td>2.888399e-02</td>\n",
       "      <td>5.737615e-03</td>\n",
       "      <td>8.777061e-02</td>\n",
       "      <td>0.162430</td>\n",
       "      <td>1.000000</td>\n",
       "      <td>0.234503</td>\n",
       "      <td>0.792750</td>\n",
       "      <td>1.564629e-01</td>\n",
       "      <td>6.271821e-03</td>\n",
       "      <td>1.079896e-03</td>\n",
       "    </tr>\n",
       "    <tr>\n",
       "      <th>New_deaths</th>\n",
       "      <td>3.113722e-02</td>\n",
       "      <td>3.487027e-02</td>\n",
       "      <td>1.901132e-03</td>\n",
       "      <td>0.294423</td>\n",
       "      <td>0.234503</td>\n",
       "      <td>1.000000</td>\n",
       "      <td>0.342313</td>\n",
       "      <td>-9.343243e-02</td>\n",
       "      <td>-3.050754e-03</td>\n",
       "      <td>3.581148e-03</td>\n",
       "    </tr>\n",
       "    <tr>\n",
       "      <th>Cumulative_deaths</th>\n",
       "      <td>4.804819e-02</td>\n",
       "      <td>6.294841e-02</td>\n",
       "      <td>-5.052076e-03</td>\n",
       "      <td>0.122155</td>\n",
       "      <td>0.792750</td>\n",
       "      <td>0.342313</td>\n",
       "      <td>1.000000</td>\n",
       "      <td>1.147598e-01</td>\n",
       "      <td>1.212002e-02</td>\n",
       "      <td>1.829975e-03</td>\n",
       "    </tr>\n",
       "    <tr>\n",
       "      <th>Year</th>\n",
       "      <td>-5.465278e-12</td>\n",
       "      <td>-7.830705e-14</td>\n",
       "      <td>-9.020761e-13</td>\n",
       "      <td>-0.010367</td>\n",
       "      <td>0.156463</td>\n",
       "      <td>-0.093432</td>\n",
       "      <td>0.114760</td>\n",
       "      <td>1.000000e+00</td>\n",
       "      <td>-1.239383e-01</td>\n",
       "      <td>-1.588379e-03</td>\n",
       "    </tr>\n",
       "    <tr>\n",
       "      <th>Month</th>\n",
       "      <td>-2.507703e-15</td>\n",
       "      <td>3.163477e-16</td>\n",
       "      <td>-1.220885e-16</td>\n",
       "      <td>-0.007739</td>\n",
       "      <td>0.006272</td>\n",
       "      <td>-0.003051</td>\n",
       "      <td>0.012120</td>\n",
       "      <td>-1.239383e-01</td>\n",
       "      <td>1.000000e+00</td>\n",
       "      <td>-9.927923e-03</td>\n",
       "    </tr>\n",
       "    <tr>\n",
       "      <th>Day</th>\n",
       "      <td>-1.036814e-15</td>\n",
       "      <td>-3.857880e-16</td>\n",
       "      <td>-1.583266e-16</td>\n",
       "      <td>0.001393</td>\n",
       "      <td>0.001080</td>\n",
       "      <td>0.003581</td>\n",
       "      <td>0.001830</td>\n",
       "      <td>-1.588379e-03</td>\n",
       "      <td>-9.927923e-03</td>\n",
       "      <td>1.000000e+00</td>\n",
       "    </tr>\n",
       "  </tbody>\n",
       "</table>\n",
       "</div>"
      ],
      "text/plain": [
       "                        Country     Continent    WHO_region  New_cases  \\\n",
       "Country            1.000000e+00 -4.911818e-04  1.228665e-01   0.003745   \n",
       "Continent         -4.911818e-04  1.000000e+00  4.057777e-01  -0.001165   \n",
       "WHO_region         1.228665e-01  4.057777e-01  1.000000e+00   0.029675   \n",
       "New_cases          3.744986e-03 -1.164864e-03  2.967511e-02   1.000000   \n",
       "Cumulative_cases   2.888399e-02  5.737615e-03  8.777061e-02   0.162430   \n",
       "New_deaths         3.113722e-02  3.487027e-02  1.901132e-03   0.294423   \n",
       "Cumulative_deaths  4.804819e-02  6.294841e-02 -5.052076e-03   0.122155   \n",
       "Year              -5.465278e-12 -7.830705e-14 -9.020761e-13  -0.010367   \n",
       "Month             -2.507703e-15  3.163477e-16 -1.220885e-16  -0.007739   \n",
       "Day               -1.036814e-15 -3.857880e-16 -1.583266e-16   0.001393   \n",
       "\n",
       "                   Cumulative_cases  New_deaths  Cumulative_deaths  \\\n",
       "Country                    0.028884    0.031137           0.048048   \n",
       "Continent                  0.005738    0.034870           0.062948   \n",
       "WHO_region                 0.087771    0.001901          -0.005052   \n",
       "New_cases                  0.162430    0.294423           0.122155   \n",
       "Cumulative_cases           1.000000    0.234503           0.792750   \n",
       "New_deaths                 0.234503    1.000000           0.342313   \n",
       "Cumulative_deaths          0.792750    0.342313           1.000000   \n",
       "Year                       0.156463   -0.093432           0.114760   \n",
       "Month                      0.006272   -0.003051           0.012120   \n",
       "Day                        0.001080    0.003581           0.001830   \n",
       "\n",
       "                           Year         Month           Day  \n",
       "Country           -5.465278e-12 -2.507703e-15 -1.036814e-15  \n",
       "Continent         -7.830705e-14  3.163477e-16 -3.857880e-16  \n",
       "WHO_region        -9.020761e-13 -1.220885e-16 -1.583266e-16  \n",
       "New_cases         -1.036727e-02 -7.738908e-03  1.393315e-03  \n",
       "Cumulative_cases   1.564629e-01  6.271821e-03  1.079896e-03  \n",
       "New_deaths        -9.343243e-02 -3.050754e-03  3.581148e-03  \n",
       "Cumulative_deaths  1.147598e-01  1.212002e-02  1.829975e-03  \n",
       "Year               1.000000e+00 -1.239383e-01 -1.588379e-03  \n",
       "Month             -1.239383e-01  1.000000e+00 -9.927923e-03  \n",
       "Day               -1.588379e-03 -9.927923e-03  1.000000e+00  "
      ]
     },
     "execution_count": 27,
     "metadata": {},
     "output_type": "execute_result"
    }
   ],
   "source": [
    "df.corr()"
   ]
  },
  {
   "cell_type": "code",
   "execution_count": 28,
   "id": "0c90a2bf",
   "metadata": {
    "execution": {
     "iopub.execute_input": "2024-09-23T11:30:04.814492Z",
     "iopub.status.busy": "2024-09-23T11:30:04.813766Z",
     "iopub.status.idle": "2024-09-23T11:30:05.392181Z",
     "shell.execute_reply": "2024-09-23T11:30:05.391263Z"
    },
    "papermill": {
     "duration": 0.602867,
     "end_time": "2024-09-23T11:30:05.395294",
     "exception": false,
     "start_time": "2024-09-23T11:30:04.792427",
     "status": "completed"
    },
    "tags": []
   },
   "outputs": [
    {
     "data": {
      "image/png": "[encoded data removed]",
      "text/plain": [
       "<Figure size 500x400 with 2 Axes>"
      ]
     },
     "metadata": {},
     "output_type": "display_data"
    }
   ],
   "source": [
    "plt.figure(figsize=(5, 4))\n",
    "sns.heatmap(df.corr(), annot=True, cmap='coolwarm', fmt='.2f', vmin=-1, vmax=1)\n",
    "plt.title('Correlation Matrix')\n",
    "plt.show()"
   ]
  },
  {
   "cell_type": "code",
   "execution_count": 29,
   "id": "44457663",
   "metadata": {
    "execution": {
     "iopub.execute_input": "2024-09-23T11:30:05.442721Z",
     "iopub.status.busy": "2024-09-23T11:30:05.442154Z",
     "iopub.status.idle": "2024-09-23T11:30:05.497431Z",
     "shell.execute_reply": "2024-09-23T11:30:05.496379Z"
    },
    "papermill": {
     "duration": 0.082432,
     "end_time": "2024-09-23T11:30:05.500066",
     "exception": false,
     "start_time": "2024-09-23T11:30:05.417634",
     "status": "completed"
    },
    "tags": []
   },
   "outputs": [
    {
     "data": {
      "text/html": [
       "<div>\n",
       "<style scoped>\n",
       "    .dataframe tbody tr th:only-of-type {\n",
       "        vertical-align: middle;\n",
       "    }\n",
       "\n",
       "    .dataframe tbody tr th {\n",
       "        vertical-align: top;\n",
       "    }\n",
       "\n",
       "    .dataframe thead th {\n",
       "        text-align: right;\n",
       "    }\n",
       "</style>\n",
       "<table border=\"1\" class=\"dataframe\">\n",
       "  <thead>\n",
       "    <tr style=\"text-align: right;\">\n",
       "      <th></th>\n",
       "      <th>Country</th>\n",
       "      <th>Continent</th>\n",
       "      <th>WHO_region</th>\n",
       "      <th>New_cases</th>\n",
       "      <th>Cumulative_cases</th>\n",
       "      <th>New_deaths</th>\n",
       "      <th>Cumulative_deaths</th>\n",
       "      <th>Year</th>\n",
       "      <th>Month</th>\n",
       "      <th>Day</th>\n",
       "    </tr>\n",
       "  </thead>\n",
       "  <tbody>\n",
       "    <tr>\n",
       "      <th>count</th>\n",
       "      <td>58560.000000</td>\n",
       "      <td>58560.000000</td>\n",
       "      <td>58560.000000</td>\n",
       "      <td>5.856000e+04</td>\n",
       "      <td>5.856000e+04</td>\n",
       "      <td>58560.000000</td>\n",
       "      <td>5.856000e+04</td>\n",
       "      <td>58560.000000</td>\n",
       "      <td>58560.000000</td>\n",
       "      <td>58560.000000</td>\n",
       "    </tr>\n",
       "    <tr>\n",
       "      <th>mean</th>\n",
       "      <td>119.500000</td>\n",
       "      <td>2.045833</td>\n",
       "      <td>2.400000</td>\n",
       "      <td>1.325372e+04</td>\n",
       "      <td>1.810312e+06</td>\n",
       "      <td>120.582821</td>\n",
       "      <td>2.012550e+04</td>\n",
       "      <td>2021.864754</td>\n",
       "      <td>6.221311</td>\n",
       "      <td>15.799180</td>\n",
       "    </tr>\n",
       "    <tr>\n",
       "      <th>std</th>\n",
       "      <td>69.282022</td>\n",
       "      <td>1.775421</td>\n",
       "      <td>2.016202</td>\n",
       "      <td>2.212564e+05</td>\n",
       "      <td>7.851277e+06</td>\n",
       "      <td>805.691725</td>\n",
       "      <td>8.220948e+04</td>\n",
       "      <td>1.355838</td>\n",
       "      <td>3.382753</td>\n",
       "      <td>8.805616</td>\n",
       "    </tr>\n",
       "    <tr>\n",
       "      <th>min</th>\n",
       "      <td>0.000000</td>\n",
       "      <td>0.000000</td>\n",
       "      <td>0.000000</td>\n",
       "      <td>-6.507900e+04</td>\n",
       "      <td>0.000000e+00</td>\n",
       "      <td>-3432.000000</td>\n",
       "      <td>0.000000e+00</td>\n",
       "      <td>2020.000000</td>\n",
       "      <td>1.000000</td>\n",
       "      <td>1.000000</td>\n",
       "    </tr>\n",
       "    <tr>\n",
       "      <th>25%</th>\n",
       "      <td>59.750000</td>\n",
       "      <td>1.000000</td>\n",
       "      <td>1.000000</td>\n",
       "      <td>0.000000e+00</td>\n",
       "      <td>4.402750e+03</td>\n",
       "      <td>0.000000</td>\n",
       "      <td>2.900000e+01</td>\n",
       "      <td>2021.000000</td>\n",
       "      <td>3.000000</td>\n",
       "      <td>8.000000</td>\n",
       "    </tr>\n",
       "    <tr>\n",
       "      <th>50%</th>\n",
       "      <td>119.500000</td>\n",
       "      <td>2.000000</td>\n",
       "      <td>2.000000</td>\n",
       "      <td>4.400000e+01</td>\n",
       "      <td>4.682750e+04</td>\n",
       "      <td>0.000000</td>\n",
       "      <td>5.845000e+02</td>\n",
       "      <td>2022.000000</td>\n",
       "      <td>6.000000</td>\n",
       "      <td>16.000000</td>\n",
       "    </tr>\n",
       "    <tr>\n",
       "      <th>75%</th>\n",
       "      <td>179.250000</td>\n",
       "      <td>3.000000</td>\n",
       "      <td>3.000000</td>\n",
       "      <td>1.201000e+03</td>\n",
       "      <td>5.351678e+05</td>\n",
       "      <td>12.000000</td>\n",
       "      <td>7.118000e+03</td>\n",
       "      <td>2023.000000</td>\n",
       "      <td>9.000000</td>\n",
       "      <td>23.250000</td>\n",
       "    </tr>\n",
       "    <tr>\n",
       "      <th>max</th>\n",
       "      <td>239.000000</td>\n",
       "      <td>7.000000</td>\n",
       "      <td>6.000000</td>\n",
       "      <td>4.047548e+07</td>\n",
       "      <td>1.034368e+08</td>\n",
       "      <td>47687.000000</td>\n",
       "      <td>1.197213e+06</td>\n",
       "      <td>2024.000000</td>\n",
       "      <td>12.000000</td>\n",
       "      <td>31.000000</td>\n",
       "    </tr>\n",
       "  </tbody>\n",
       "</table>\n",
       "</div>"
      ],
      "text/plain": [
       "            Country     Continent    WHO_region     New_cases  \\\n",
       "count  58560.000000  58560.000000  58560.000000  5.856000e+04   \n",
       "mean     119.500000      2.045833      2.400000  1.325372e+04   \n",
       "std       69.282022      1.775421      2.016202  2.212564e+05   \n",
       "min        0.000000      0.000000      0.000000 -6.507900e+04   \n",
       "25%       59.750000      1.000000      1.000000  0.000000e+00   \n",
       "50%      119.500000      2.000000      2.000000  4.400000e+01   \n",
       "75%      179.250000      3.000000      3.000000  1.201000e+03   \n",
       "max      239.000000      7.000000      6.000000  4.047548e+07   \n",
       "\n",
       "       Cumulative_cases    New_deaths  Cumulative_deaths          Year  \\\n",
       "count      5.856000e+04  58560.000000       5.856000e+04  58560.000000   \n",
       "mean       1.810312e+06    120.582821       2.012550e+04   2021.864754   \n",
       "std        7.851277e+06    805.691725       8.220948e+04      1.355838   \n",
       "min        0.000000e+00  -3432.000000       0.000000e+00   2020.000000   \n",
       "25%        4.402750e+03      0.000000       2.900000e+01   2021.000000   \n",
       "50%        4.682750e+04      0.000000       5.845000e+02   2022.000000   \n",
       "75%        5.351678e+05     12.000000       7.118000e+03   2023.000000   \n",
       "max        1.034368e+08  47687.000000       1.197213e+06   2024.000000   \n",
       "\n",
       "              Month           Day  \n",
       "count  58560.000000  58560.000000  \n",
       "mean       6.221311     15.799180  \n",
       "std        3.382753      8.805616  \n",
       "min        1.000000      1.000000  \n",
       "25%        3.000000      8.000000  \n",
       "50%        6.000000     16.000000  \n",
       "75%        9.000000     23.250000  \n",
       "max       12.000000     31.000000  "
      ]
     },
     "execution_count": 29,
     "metadata": {},
     "output_type": "execute_result"
    }
   ],
   "source": [
    "df.describe()"
   ]
  },
  {
   "cell_type": "code",
   "execution_count": 30,
   "id": "69b488d9",
   "metadata": {
    "execution": {
     "iopub.execute_input": "2024-09-23T11:30:05.548525Z",
     "iopub.status.busy": "2024-09-23T11:30:05.547542Z",
     "iopub.status.idle": "2024-09-23T11:30:05.560605Z",
     "shell.execute_reply": "2024-09-23T11:30:05.559360Z"
    },
    "papermill": {
     "duration": 0.039677,
     "end_time": "2024-09-23T11:30:05.563054",
     "exception": false,
     "start_time": "2024-09-23T11:30:05.523377",
     "status": "completed"
    },
    "tags": []
   },
   "outputs": [
    {
     "name": "stdout",
     "output_type": "stream",
     "text": [
      "<class 'pandas.core.frame.DataFrame'>\n",
      "RangeIndex: 58560 entries, 0 to 58559\n",
      "Data columns (total 10 columns):\n",
      " #   Column             Non-Null Count  Dtype\n",
      "---  ------             --------------  -----\n",
      " 0   Country            58560 non-null  int64\n",
      " 1   Continent          58560 non-null  int64\n",
      " 2   WHO_region         58560 non-null  int64\n",
      " 3   New_cases          58560 non-null  int64\n",
      " 4   Cumulative_cases   58560 non-null  int64\n",
      " 5   New_deaths         58560 non-null  int64\n",
      " 6   Cumulative_deaths  58560 non-null  int64\n",
      " 7   Year               58560 non-null  int64\n",
      " 8   Month              58560 non-null  int64\n",
      " 9   Day                58560 non-null  int64\n",
      "dtypes: int64(10)\n",
      "memory usage: 4.5 MB\n"
     ]
    }
   ],
   "source": [
    "df.info()"
   ]
  },
  {
   "cell_type": "markdown",
   "id": "1b941c91",
   "metadata": {
    "papermill": {
     "duration": 0.022372,
     "end_time": "2024-09-23T11:30:05.607826",
     "exception": false,
     "start_time": "2024-09-23T11:30:05.585454",
     "status": "completed"
    },
    "tags": []
   },
   "source": [
    "# 5. **Model Training**"
   ]
  },
  {
   "cell_type": "code",
   "execution_count": 31,
   "id": "bc928d34",
   "metadata": {
    "execution": {
     "iopub.execute_input": "2024-09-23T11:30:05.656588Z",
     "iopub.status.busy": "2024-09-23T11:30:05.655706Z",
     "iopub.status.idle": "2024-09-23T11:30:05.787963Z",
     "shell.execute_reply": "2024-09-23T11:30:05.787099Z"
    },
    "papermill": {
     "duration": 0.158377,
     "end_time": "2024-09-23T11:30:05.790637",
     "exception": false,
     "start_time": "2024-09-23T11:30:05.632260",
     "status": "completed"
    },
    "tags": []
   },
   "outputs": [],
   "source": [
    "# Spliting data\n",
    "from sklearn.model_selection import train_test_split\n",
    "X_train, X_test, y_train, y_test = train_test_split(df.drop(\"Cumulative_deaths\",axis=1), df[\"Cumulative_deaths\"], test_size=0.2, random_state=42)"
   ]
  },
  {
   "cell_type": "code",
   "execution_count": 32,
   "id": "12c19183",
   "metadata": {
    "execution": {
     "iopub.execute_input": "2024-09-23T11:30:05.838173Z",
     "iopub.status.busy": "2024-09-23T11:30:05.837419Z",
     "iopub.status.idle": "2024-09-23T11:30:05.858957Z",
     "shell.execute_reply": "2024-09-23T11:30:05.858047Z"
    },
    "papermill": {
     "duration": 0.04814,
     "end_time": "2024-09-23T11:30:05.861491",
     "exception": false,
     "start_time": "2024-09-23T11:30:05.813351",
     "status": "completed"
    },
    "tags": []
   },
   "outputs": [],
   "source": [
    "# Apply scaling\n",
    "from sklearn.preprocessing import StandardScaler\n",
    "scaler = StandardScaler()\n",
    "X_train_scaled = scaler.fit_transform(X_train)\n",
    "X_test_scaled = scaler.transform(X_test)"
   ]
  },
  {
   "cell_type": "code",
   "execution_count": 33,
   "id": "5fadd461",
   "metadata": {
    "execution": {
     "iopub.execute_input": "2024-09-23T11:30:05.908643Z",
     "iopub.status.busy": "2024-09-23T11:30:05.907938Z",
     "iopub.status.idle": "2024-09-23T11:30:06.261492Z",
     "shell.execute_reply": "2024-09-23T11:30:06.260558Z"
    },
    "papermill": {
     "duration": 0.380216,
     "end_time": "2024-09-23T11:30:06.264269",
     "exception": false,
     "start_time": "2024-09-23T11:30:05.884053",
     "status": "completed"
    },
    "tags": []
   },
   "outputs": [],
   "source": [
    "from sklearn.linear_model import LinearRegression\n",
    "from sklearn.neighbors import KNeighborsRegressor\n",
    "from sklearn.tree import DecisionTreeRegressor\n",
    "from sklearn.ensemble import RandomForestRegressor\n",
    "\n",
    "from sklearn.metrics import mean_squared_error, mean_absolute_error, r2_score, confusion_matrix"
   ]
  },
  {
   "cell_type": "code",
   "execution_count": 34,
   "id": "7a68e694",
   "metadata": {
    "execution": {
     "iopub.execute_input": "2024-09-23T11:30:06.312739Z",
     "iopub.status.busy": "2024-09-23T11:30:06.311729Z",
     "iopub.status.idle": "2024-09-23T11:30:06.317001Z",
     "shell.execute_reply": "2024-09-23T11:30:06.316048Z"
    },
    "papermill": {
     "duration": 0.031877,
     "end_time": "2024-09-23T11:30:06.319311",
     "exception": false,
     "start_time": "2024-09-23T11:30:06.287434",
     "status": "completed"
    },
    "tags": []
   },
   "outputs": [],
   "source": [
    "models = {\"Linear_reg\" : LinearRegression(),\n",
    "\"KNN\" : KNeighborsRegressor(),\n",
    "\"Desi_tree\" : DecisionTreeRegressor(),\n",
    "\"R_forest\" : RandomForestRegressor()\n",
    "         }"
   ]
  },
  {
   "cell_type": "code",
   "execution_count": 35,
   "id": "c6d4db73",
   "metadata": {
    "execution": {
     "iopub.execute_input": "2024-09-23T11:30:06.367199Z",
     "iopub.status.busy": "2024-09-23T11:30:06.366240Z",
     "iopub.status.idle": "2024-09-23T11:30:28.438927Z",
     "shell.execute_reply": "2024-09-23T11:30:28.437446Z"
    },
    "papermill": {
     "duration": 22.100076,
     "end_time": "2024-09-23T11:30:28.442266",
     "exception": false,
     "start_time": "2024-09-23T11:30:06.342190",
     "status": "completed"
    },
    "tags": []
   },
   "outputs": [],
   "source": [
    "trained_models = []\n",
    "for model_name, model in models.items():\n",
    "    model.fit(X_train_scaled,y_train)\n",
    "    trained_models.append((model_name, model))"
   ]
  },
  {
   "cell_type": "code",
   "execution_count": 36,
   "id": "24589996",
   "metadata": {
    "execution": {
     "iopub.execute_input": "2024-09-23T11:30:28.495492Z",
     "iopub.status.busy": "2024-09-23T11:30:28.494501Z",
     "iopub.status.idle": "2024-09-23T11:30:28.504790Z",
     "shell.execute_reply": "2024-09-23T11:30:28.503767Z"
    },
    "papermill": {
     "duration": 0.036592,
     "end_time": "2024-09-23T11:30:28.506928",
     "exception": false,
     "start_time": "2024-09-23T11:30:28.470336",
     "status": "completed"
    },
    "tags": []
   },
   "outputs": [
    {
     "data": {
      "text/plain": [
       "[('Linear_reg', LinearRegression()),\n",
       " ('KNN', KNeighborsRegressor()),\n",
       " ('Desi_tree', DecisionTreeRegressor()),\n",
       " ('R_forest', RandomForestRegressor())]"
      ]
     },
     "execution_count": 36,
     "metadata": {},
     "output_type": "execute_result"
    }
   ],
   "source": [
    "trained_models"
   ]
  },
  {
   "cell_type": "markdown",
   "id": "8f60a936",
   "metadata": {
    "papermill": {
     "duration": 0.032237,
     "end_time": "2024-09-23T11:30:28.566593",
     "exception": false,
     "start_time": "2024-09-23T11:30:28.534356",
     "status": "completed"
    },
    "tags": []
   },
   "source": [
    "# 6. **ML Score**"
   ]
  },
  {
   "cell_type": "code",
   "execution_count": 37,
   "id": "6cb8e10d",
   "metadata": {
    "execution": {
     "iopub.execute_input": "2024-09-23T11:30:28.617569Z",
     "iopub.status.busy": "2024-09-23T11:30:28.616998Z",
     "iopub.status.idle": "2024-09-23T11:30:30.388418Z",
     "shell.execute_reply": "2024-09-23T11:30:30.387414Z"
    },
    "papermill": {
     "duration": 1.798489,
     "end_time": "2024-09-23T11:30:30.390666",
     "exception": false,
     "start_time": "2024-09-23T11:30:28.592177",
     "status": "completed"
    },
    "tags": []
   },
   "outputs": [
    {
     "data": {
      "text/plain": [
       "[{'Model': 'Linear_reg',\n",
       "  'Mean Squared Error': 2417888674.0170603,\n",
       "  'Mean Absolute Error': 17134.7870599836,\n",
       "  'R-squared': 0.6520591360686728},\n",
       " {'Model': 'KNN',\n",
       "  'Mean Squared Error': 319270843.85343236,\n",
       "  'Mean Absolute Error': 5489.995952868852,\n",
       "  'R-squared': 0.9540560430129782},\n",
       " {'Model': 'Desi_tree',\n",
       "  'Mean Squared Error': 8707423.948087431,\n",
       "  'Mean Absolute Error': 334.93767076502735,\n",
       "  'R-squared': 0.9987469776240441},\n",
       " {'Model': 'R_forest',\n",
       "  'Mean Squared Error': 2602466.9428731548,\n",
       "  'Mean Absolute Error': 300.3744262295081,\n",
       "  'R-squared': 0.9996254978129528}]"
      ]
     },
     "execution_count": 37,
     "metadata": {},
     "output_type": "execute_result"
    }
   ],
   "source": [
    "metrics_list = []\n",
    "\n",
    "for model_name, model in models.items():\n",
    "\n",
    "    y_pred = model.predict(X_test_scaled)\n",
    "\n",
    "    mse = mean_squared_error(y_test, y_pred)\n",
    "    mae = mean_absolute_error(y_test, y_pred)\n",
    "    r2 = r2_score(y_test, y_pred)\n",
    "\n",
    "    metrics_list.append({\n",
    "        'Model': model_name,\n",
    "        'Mean Squared Error': mse,\n",
    "        'Mean Absolute Error': mae,\n",
    "        'R-squared': r2,\n",
    "    })\n",
    "\n",
    "# Display the metrics list\n",
    "metrics_list"
   ]
  },
  {
   "cell_type": "code",
   "execution_count": 38,
   "id": "eb2f4dbd",
   "metadata": {
    "execution": {
     "iopub.execute_input": "2024-09-23T11:30:30.436959Z",
     "iopub.status.busy": "2024-09-23T11:30:30.436036Z",
     "iopub.status.idle": "2024-09-23T11:30:30.444853Z",
     "shell.execute_reply": "2024-09-23T11:30:30.443817Z"
    },
    "papermill": {
     "duration": 0.034479,
     "end_time": "2024-09-23T11:30:30.447076",
     "exception": false,
     "start_time": "2024-09-23T11:30:30.412597",
     "status": "completed"
    },
    "tags": []
   },
   "outputs": [
    {
     "name": "stdout",
     "output_type": "stream",
     "text": [
      "        Model  Mean Squared Error  Mean Absolute Error  R-squared\n",
      "0  Linear_reg        2.417889e+09         17134.787060   0.652059\n",
      "1         KNN        3.192708e+08          5489.995953   0.954056\n",
      "2   Desi_tree        8.707424e+06           334.937671   0.998747\n",
      "3    R_forest        2.602467e+06           300.374426   0.999625\n"
     ]
    }
   ],
   "source": [
    "metrics_df = pd.DataFrame(metrics_list)\n",
    "print(metrics_df)"
   ]
  },
  {
   "cell_type": "code",
   "execution_count": 39,
   "id": "f0c892eb",
   "metadata": {
    "execution": {
     "iopub.execute_input": "2024-09-23T11:30:30.493056Z",
     "iopub.status.busy": "2024-09-23T11:30:30.492634Z",
     "iopub.status.idle": "2024-09-23T11:30:30.499370Z",
     "shell.execute_reply": "2024-09-23T11:30:30.498416Z"
    },
    "papermill": {
     "duration": 0.032988,
     "end_time": "2024-09-23T11:30:30.502124",
     "exception": false,
     "start_time": "2024-09-23T11:30:30.469136",
     "status": "completed"
    },
    "tags": []
   },
   "outputs": [
    {
     "name": "stdout",
     "output_type": "stream",
     "text": [
      "Model                        R_forest\n",
      "Mean Squared Error     2602466.942873\n",
      "Mean Absolute Error        300.374426\n",
      "R-squared                    0.999625\n",
      "Name: 3, dtype: object\n"
     ]
    }
   ],
   "source": [
    "best_model = metrics_df.loc[metrics_df['R-squared'].idxmax()]\n",
    "print(best_model)"
   ]
  },
  {
   "cell_type": "code",
   "execution_count": 40,
   "id": "30822d62",
   "metadata": {
    "execution": {
     "iopub.execute_input": "2024-09-23T11:30:30.548496Z",
     "iopub.status.busy": "2024-09-23T11:30:30.547853Z",
     "iopub.status.idle": "2024-09-23T11:30:31.854328Z",
     "shell.execute_reply": "2024-09-23T11:30:31.853359Z"
    },
    "papermill": {
     "duration": 1.333278,
     "end_time": "2024-09-23T11:30:31.856881",
     "exception": false,
     "start_time": "2024-09-23T11:30:30.523603",
     "status": "completed"
    },
    "tags": []
   },
   "outputs": [
    {
     "name": "stdout",
     "output_type": "stream",
     "text": [
      "Training Accuracy: 99.99\n",
      "Test Accuracy: 99.96\n"
     ]
    }
   ],
   "source": [
    "train_accuracy = model.score(X_train_scaled, y_train)\n",
    "print(f\"Training Accuracy: {round(train_accuracy*100,2)}\")\n",
    "\n",
    "test_accuracy = model.score(X_test_scaled, y_test)\n",
    "print(f\"Test Accuracy: {round(test_accuracy*100,2)}\")\n"
   ]
  },
  {
   "cell_type": "markdown",
   "id": "86eb72c4",
   "metadata": {
    "papermill": {
     "duration": 0.022222,
     "end_time": "2024-09-23T11:30:31.901224",
     "exception": false,
     "start_time": "2024-09-23T11:30:31.879002",
     "status": "completed"
    },
    "tags": []
   },
   "source": [
    "# 7. **Test the model**"
   ]
  },
  {
   "cell_type": "code",
   "execution_count": 41,
   "id": "a34e8375",
   "metadata": {
    "execution": {
     "iopub.execute_input": "2024-09-23T11:30:31.949613Z",
     "iopub.status.busy": "2024-09-23T11:30:31.948566Z",
     "iopub.status.idle": "2024-09-23T11:30:31.964625Z",
     "shell.execute_reply": "2024-09-23T11:30:31.963258Z"
    },
    "papermill": {
     "duration": 0.042316,
     "end_time": "2024-09-23T11:30:31.966728",
     "exception": false,
     "start_time": "2024-09-23T11:30:31.924412",
     "status": "completed"
    },
    "tags": []
   },
   "outputs": [
    {
     "name": "stderr",
     "output_type": "stream",
     "text": [
      "/opt/conda/lib/python3.10/site-packages/sklearn/base.py:439: UserWarning: X does not have valid feature names, but StandardScaler was fitted with feature names\n",
      "  warnings.warn(\n"
     ]
    },
    {
     "data": {
      "text/plain": [
       "array([10947.])"
      ]
     },
     "execution_count": 41,
     "metadata": {},
     "output_type": "execute_result"
    }
   ],
   "source": [
    "model.predict(scaler.transform([[122,1,2,0,1239904,0,2023,12,3]]))"
   ]
  },
  {
   "cell_type": "code",
   "execution_count": 42,
   "id": "ec2a87cb",
   "metadata": {
    "execution": {
     "iopub.execute_input": "2024-09-23T11:30:32.014994Z",
     "iopub.status.busy": "2024-09-23T11:30:32.013946Z",
     "iopub.status.idle": "2024-09-23T11:30:32.026778Z",
     "shell.execute_reply": "2024-09-23T11:30:32.025799Z"
    },
    "papermill": {
     "duration": 0.039084,
     "end_time": "2024-09-23T11:30:32.028871",
     "exception": false,
     "start_time": "2024-09-23T11:30:31.989787",
     "status": "completed"
    },
    "tags": []
   },
   "outputs": [
    {
     "data": {
      "text/html": [
       "<div>\n",
       "<style scoped>\n",
       "    .dataframe tbody tr th:only-of-type {\n",
       "        vertical-align: middle;\n",
       "    }\n",
       "\n",
       "    .dataframe tbody tr th {\n",
       "        vertical-align: top;\n",
       "    }\n",
       "\n",
       "    .dataframe thead th {\n",
       "        text-align: right;\n",
       "    }\n",
       "</style>\n",
       "<table border=\"1\" class=\"dataframe\">\n",
       "  <thead>\n",
       "    <tr style=\"text-align: right;\">\n",
       "      <th></th>\n",
       "      <th>Country</th>\n",
       "      <th>Continent</th>\n",
       "      <th>WHO_region</th>\n",
       "      <th>New_cases</th>\n",
       "      <th>Cumulative_cases</th>\n",
       "      <th>New_deaths</th>\n",
       "      <th>Year</th>\n",
       "      <th>Month</th>\n",
       "      <th>Day</th>\n",
       "    </tr>\n",
       "  </thead>\n",
       "  <tbody>\n",
       "    <tr>\n",
       "      <th>29972</th>\n",
       "      <td>122</td>\n",
       "      <td>1</td>\n",
       "      <td>2</td>\n",
       "      <td>0</td>\n",
       "      <td>1239904</td>\n",
       "      <td>0</td>\n",
       "      <td>2023</td>\n",
       "      <td>12</td>\n",
       "      <td>3</td>\n",
       "    </tr>\n",
       "    <tr>\n",
       "      <th>28147</th>\n",
       "      <td>115</td>\n",
       "      <td>0</td>\n",
       "      <td>0</td>\n",
       "      <td>5103</td>\n",
       "      <td>239692</td>\n",
       "      <td>84</td>\n",
       "      <td>2021</td>\n",
       "      <td>9</td>\n",
       "      <td>5</td>\n",
       "    </tr>\n",
       "    <tr>\n",
       "      <th>38656</th>\n",
       "      <td>158</td>\n",
       "      <td>4</td>\n",
       "      <td>6</td>\n",
       "      <td>0</td>\n",
       "      <td>0</td>\n",
       "      <td>0</td>\n",
       "      <td>2022</td>\n",
       "      <td>1</td>\n",
       "      <td>2</td>\n",
       "    </tr>\n",
       "    <tr>\n",
       "      <th>15673</th>\n",
       "      <td>64</td>\n",
       "      <td>0</td>\n",
       "      <td>0</td>\n",
       "      <td>191</td>\n",
       "      <td>2326</td>\n",
       "      <td>0</td>\n",
       "      <td>2021</td>\n",
       "      <td>2</td>\n",
       "      <td>7</td>\n",
       "    </tr>\n",
       "    <tr>\n",
       "      <th>18551</th>\n",
       "      <td>76</td>\n",
       "      <td>0</td>\n",
       "      <td>0</td>\n",
       "      <td>0</td>\n",
       "      <td>0</td>\n",
       "      <td>0</td>\n",
       "      <td>2020</td>\n",
       "      <td>2</td>\n",
       "      <td>23</td>\n",
       "    </tr>\n",
       "  </tbody>\n",
       "</table>\n",
       "</div>"
      ],
      "text/plain": [
       "       Country  Continent  WHO_region  New_cases  Cumulative_cases  \\\n",
       "29972      122          1           2          0           1239904   \n",
       "28147      115          0           0       5103            239692   \n",
       "38656      158          4           6          0                 0   \n",
       "15673       64          0           0        191              2326   \n",
       "18551       76          0           0          0                 0   \n",
       "\n",
       "       New_deaths  Year  Month  Day  \n",
       "29972           0  2023     12    3  \n",
       "28147          84  2021      9    5  \n",
       "38656           0  2022      1    2  \n",
       "15673           0  2021      2    7  \n",
       "18551           0  2020      2   23  "
      ]
     },
     "execution_count": 42,
     "metadata": {},
     "output_type": "execute_result"
    }
   ],
   "source": [
    "X_train.head()"
   ]
  },
  {
   "cell_type": "code",
   "execution_count": 43,
   "id": "68976ab8",
   "metadata": {
    "execution": {
     "iopub.execute_input": "2024-09-23T11:30:32.076900Z",
     "iopub.status.busy": "2024-09-23T11:30:32.075966Z",
     "iopub.status.idle": "2024-09-23T11:30:32.083790Z",
     "shell.execute_reply": "2024-09-23T11:30:32.082797Z"
    },
    "papermill": {
     "duration": 0.034415,
     "end_time": "2024-09-23T11:30:32.086115",
     "exception": false,
     "start_time": "2024-09-23T11:30:32.051700",
     "status": "completed"
    },
    "tags": []
   },
   "outputs": [
    {
     "data": {
      "text/plain": [
       "29972    10947\n",
       "28147     4778\n",
       "38656        0\n",
       "15673        7\n",
       "18551        0\n",
       "Name: Cumulative_deaths, dtype: int64"
      ]
     },
     "execution_count": 43,
     "metadata": {},
     "output_type": "execute_result"
    }
   ],
   "source": [
    "y_train.head()"
   ]
  },
  {
   "cell_type": "code",
   "execution_count": null,
   "id": "988ef074",
   "metadata": {
    "papermill": {
     "duration": 0.023902,
     "end_time": "2024-09-23T11:30:32.133735",
     "exception": false,
     "start_time": "2024-09-23T11:30:32.109833",
     "status": "completed"
    },
    "tags": []
   },
   "outputs": [],
   "source": []
  }
 ],
 "metadata": {
  "kaggle": {
   "accelerator": "none",
   "dataSources": [
    {
     "datasetId": 5709149,
     "sourceId": 9404059,
     "sourceType": "datasetVersion"
    }
   ],
   "dockerImageVersionId": 30761,
   "isGpuEnabled": false,
   "isInternetEnabled": false,
   "language": "python",
   "sourceType": "notebook"
  },
  "kernelspec": {
   "display_name": "Python 3",
   "language": "python",
   "name": "python3"
  },
  "language_info": {
   "codemirror_mode": {
    "name": "ipython",
    "version": 3
   },
   "file_extension": ".py",
   "mimetype": "text/x-python",
   "name": "python",
   "nbconvert_exporter": "python",
   "pygments_lexer": "ipython3",
   "version": "3.10.14"
  },
  "papermill": {
   "default_parameters": {},
   "duration": 45.978802,
   "end_time": "2024-09-23T11:30:32.778824",
   "environment_variables": {},
   "exception": null,
   "input_path": "__notebook__.ipynb",
   "output_path": "__notebook__.ipynb",
   "parameters": {},
   "start_time": "2024-09-23T11:29:46.800022",
   "version": "2.6.0"
  }
 },
 "nbformat": 4,
 "nbformat_minor": 5
}
